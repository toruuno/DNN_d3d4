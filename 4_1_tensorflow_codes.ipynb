{
  "nbformat": 4,
  "nbformat_minor": 0,
  "metadata": {
    "kernelspec": {
      "name": "python3",
      "display_name": "Python 3"
    },
    "language_info": {
      "codemirror_mode": {
        "name": "ipython",
        "version": 3
      },
      "file_extension": ".py",
      "mimetype": "text/x-python",
      "name": "python",
      "nbconvert_exporter": "python",
      "pygments_lexer": "ipython3",
      "version": "3.6.3"
    },
    "colab": {
      "name": "4_1_tensorflow_codes.ipynb",
      "provenance": [],
      "collapsed_sections": [],
      "toc_visible": true,
      "include_colab_link": true
    },
    "accelerator": "GPU"
  },
  "cells": [
    {
      "cell_type": "markdown",
      "metadata": {
        "id": "view-in-github",
        "colab_type": "text"
      },
      "source": [
        "<a href=\"https://colab.research.google.com/github/toruuno/DNN_d3d4/blob/master/4_1_tensorflow_codes.ipynb\" target=\"_parent\"><img src=\"https://colab.research.google.com/assets/colab-badge.svg\" alt=\"Open In Colab\"/></a>"
      ]
    },
    {
      "cell_type": "markdown",
      "metadata": {
        "id": "vtJg9aiJmsnR"
      },
      "source": [
        "# TensolFlow"
      ]
    },
    {
      "cell_type": "code",
      "metadata": {
        "colab": {
          "base_uri": "https://localhost:8080/"
        },
        "id": "ZpaDxSn2Oaqd",
        "outputId": "febfa288-4eb4-483a-a758-c0472bccd335"
      },
      "source": [
        "!pip install tensorflow==1.15.0"
      ],
      "execution_count": null,
      "outputs": [
        {
          "output_type": "stream",
          "name": "stdout",
          "text": [
            "Requirement already satisfied: tensorflow==1.15.0 in /usr/local/lib/python3.7/dist-packages (1.15.0)\n",
            "Requirement already satisfied: astor>=0.6.0 in /usr/local/lib/python3.7/dist-packages (from tensorflow==1.15.0) (0.8.1)\n",
            "Requirement already satisfied: wrapt>=1.11.1 in /usr/local/lib/python3.7/dist-packages (from tensorflow==1.15.0) (1.12.1)\n",
            "Requirement already satisfied: keras-preprocessing>=1.0.5 in /usr/local/lib/python3.7/dist-packages (from tensorflow==1.15.0) (1.1.2)\n",
            "Requirement already satisfied: termcolor>=1.1.0 in /usr/local/lib/python3.7/dist-packages (from tensorflow==1.15.0) (1.1.0)\n",
            "Requirement already satisfied: wheel>=0.26 in /usr/local/lib/python3.7/dist-packages (from tensorflow==1.15.0) (0.37.0)\n",
            "Requirement already satisfied: google-pasta>=0.1.6 in /usr/local/lib/python3.7/dist-packages (from tensorflow==1.15.0) (0.2.0)\n",
            "Requirement already satisfied: numpy<2.0,>=1.16.0 in /usr/local/lib/python3.7/dist-packages (from tensorflow==1.15.0) (1.19.5)\n",
            "Requirement already satisfied: absl-py>=0.7.0 in /usr/local/lib/python3.7/dist-packages (from tensorflow==1.15.0) (0.12.0)\n",
            "Requirement already satisfied: protobuf>=3.6.1 in /usr/local/lib/python3.7/dist-packages (from tensorflow==1.15.0) (3.17.3)\n",
            "Requirement already satisfied: tensorboard<1.16.0,>=1.15.0 in /usr/local/lib/python3.7/dist-packages (from tensorflow==1.15.0) (1.15.0)\n",
            "Requirement already satisfied: tensorflow-estimator==1.15.1 in /usr/local/lib/python3.7/dist-packages (from tensorflow==1.15.0) (1.15.1)\n",
            "Requirement already satisfied: six>=1.10.0 in /usr/local/lib/python3.7/dist-packages (from tensorflow==1.15.0) (1.15.0)\n",
            "Requirement already satisfied: gast==0.2.2 in /usr/local/lib/python3.7/dist-packages (from tensorflow==1.15.0) (0.2.2)\n",
            "Requirement already satisfied: keras-applications>=1.0.8 in /usr/local/lib/python3.7/dist-packages (from tensorflow==1.15.0) (1.0.8)\n",
            "Requirement already satisfied: grpcio>=1.8.6 in /usr/local/lib/python3.7/dist-packages (from tensorflow==1.15.0) (1.41.0)\n",
            "Requirement already satisfied: opt-einsum>=2.3.2 in /usr/local/lib/python3.7/dist-packages (from tensorflow==1.15.0) (3.3.0)\n",
            "Requirement already satisfied: h5py in /usr/local/lib/python3.7/dist-packages (from keras-applications>=1.0.8->tensorflow==1.15.0) (3.1.0)\n",
            "Requirement already satisfied: werkzeug>=0.11.15 in /usr/local/lib/python3.7/dist-packages (from tensorboard<1.16.0,>=1.15.0->tensorflow==1.15.0) (1.0.1)\n",
            "Requirement already satisfied: markdown>=2.6.8 in /usr/local/lib/python3.7/dist-packages (from tensorboard<1.16.0,>=1.15.0->tensorflow==1.15.0) (3.3.4)\n",
            "Requirement already satisfied: setuptools>=41.0.0 in /usr/local/lib/python3.7/dist-packages (from tensorboard<1.16.0,>=1.15.0->tensorflow==1.15.0) (57.4.0)\n",
            "Requirement already satisfied: importlib-metadata in /usr/local/lib/python3.7/dist-packages (from markdown>=2.6.8->tensorboard<1.16.0,>=1.15.0->tensorflow==1.15.0) (4.8.1)\n",
            "Requirement already satisfied: cached-property in /usr/local/lib/python3.7/dist-packages (from h5py->keras-applications>=1.0.8->tensorflow==1.15.0) (1.5.2)\n",
            "Requirement already satisfied: typing-extensions>=3.6.4 in /usr/local/lib/python3.7/dist-packages (from importlib-metadata->markdown>=2.6.8->tensorboard<1.16.0,>=1.15.0->tensorflow==1.15.0) (3.7.4.3)\n",
            "Requirement already satisfied: zipp>=0.5 in /usr/local/lib/python3.7/dist-packages (from importlib-metadata->markdown>=2.6.8->tensorboard<1.16.0,>=1.15.0->tensorflow==1.15.0) (3.6.0)\n"
          ]
        }
      ]
    },
    {
      "cell_type": "markdown",
      "metadata": {
        "id": "th84GJGymsnT"
      },
      "source": [
        "## base"
      ]
    },
    {
      "cell_type": "markdown",
      "metadata": {
        "id": "yHH57hWBmsnU"
      },
      "source": [
        "### constant"
      ]
    },
    {
      "cell_type": "code",
      "metadata": {
        "id": "kFUp6yKBmsnU",
        "colab": {
          "base_uri": "https://localhost:8080/"
        },
        "outputId": "7cb1012b-cb2c-46ce-aa66-a32d934aef9f"
      },
      "source": [
        "import tensorflow as tf\n",
        "import numpy as np\n",
        "\n",
        "# それぞれ定数を定義\n",
        "a = tf.constant(1)\n",
        "b = tf.constant(2, dtype=tf.float32, shape=[3,2])\n",
        "c = tf.constant(np.arange(4), dtype=tf.float32, shape=[2,2])\n",
        "\n",
        "print('a:', a)\n",
        "print('b:', b)\n",
        "print('c:', c)\n",
        "\n",
        "print(tf.__version__)\n",
        "\n",
        "sess = tf.Session()\n",
        "\n",
        "print('a:', sess.run(a))\n",
        "print('b:', sess.run(b))\n",
        "print('c:', sess.run(c))"
      ],
      "execution_count": null,
      "outputs": [
        {
          "output_type": "stream",
          "name": "stdout",
          "text": [
            "a: Tensor(\"Const:0\", shape=(), dtype=int32)\n",
            "b: Tensor(\"Const_1:0\", shape=(3, 2), dtype=float32)\n",
            "c: Tensor(\"Const_2:0\", shape=(2, 2), dtype=float32)\n",
            "1.15.0\n",
            "a: 1\n",
            "b: [[2. 2.]\n",
            " [2. 2.]\n",
            " [2. 2.]]\n",
            "c: [[0. 1.]\n",
            " [2. 3.]]\n"
          ]
        }
      ]
    },
    {
      "cell_type": "markdown",
      "metadata": {
        "id": "S0b5oX-1msnX"
      },
      "source": [
        "### placeholder"
      ]
    },
    {
      "cell_type": "code",
      "metadata": {
        "id": "M94VxYfFmsnY",
        "colab": {
          "base_uri": "https://localhost:8080/"
        },
        "outputId": "d3d0343a-e925-4ee6-f507-cf5897e4c2e1"
      },
      "source": [
        "import tensorflow as tf\n",
        "import numpy as np\n",
        "\n",
        "# プレースホルダーを定義\n",
        "x = tf.placeholder(dtype=tf.float32, shape=[None,3])\n",
        "\n",
        "print('x:', x)\n",
        "\n",
        "sess = tf.Session()\n",
        "\n",
        "X = np.random.rand(2,3)\n",
        "print('X:', X)\n",
        "\n",
        "# プレースホルダにX[0]を入力\n",
        "# shapeを(3,)から(1,3)にするためreshape\n",
        "print('x:', sess.run(x, feed_dict={x:X[0].reshape(1,-1)}))\n",
        "# プレースホルダにX[1]を入力\n",
        "print('x:', sess.run(x, feed_dict={x:X[1].reshape(1,-1)}))"
      ],
      "execution_count": null,
      "outputs": [
        {
          "output_type": "stream",
          "name": "stdout",
          "text": [
            "x: Tensor(\"Placeholder:0\", shape=(?, 3), dtype=float32)\n",
            "X: [[0.37475216 0.05866816 0.73019391]\n",
            " [0.53182463 0.83790961 0.31176254]]\n",
            "x: [[0.37475216 0.05866816 0.7301939 ]]\n",
            "x: [[0.53182465 0.83790964 0.31176254]]\n"
          ]
        }
      ]
    },
    {
      "cell_type": "markdown",
      "metadata": {
        "id": "PTl3pDCEmsna"
      },
      "source": [
        "### variables"
      ]
    },
    {
      "cell_type": "code",
      "metadata": {
        "id": "bG54ecyXmsnb",
        "colab": {
          "base_uri": "https://localhost:8080/"
        },
        "outputId": "f05fa997-c583-4caf-a76a-fc19a464a0a0"
      },
      "source": [
        "# 定数を定義\n",
        "a = tf.constant(10)\n",
        "print('a:', a)\n",
        "# 変数を定義\n",
        "x = tf.Variable(1)\n",
        "print('x:', x)\n",
        "\n",
        "calc_op = x * a\n",
        "\n",
        "# xの値を更新\n",
        "update_x = tf.assign(x, calc_op)\n",
        "\n",
        "sess = tf.Session()\n",
        "\n",
        "# 変数の初期化\n",
        "init = tf.global_variables_initializer()\n",
        "sess.run(init)\n",
        "\n",
        "print(sess.run(x))\n",
        "\n",
        "sess.run(update_x)\n",
        "print(sess.run(x))\n",
        "\n",
        "sess.run(update_x)\n",
        "print(sess.run(x))"
      ],
      "execution_count": null,
      "outputs": [
        {
          "output_type": "stream",
          "name": "stdout",
          "text": [
            "a: Tensor(\"Const_3:0\", shape=(), dtype=int32)\n",
            "x: <tf.Variable 'Variable:0' shape=() dtype=int32_ref>\n",
            "1\n",
            "10\n",
            "100\n"
          ]
        }
      ]
    },
    {
      "cell_type": "markdown",
      "metadata": {
        "id": "Z--khkuEmsnd"
      },
      "source": [
        "## 線形回帰\n",
        "---------------------------------------------------------------------------------------------------------------------------------------------------------------------------------------------\n",
        "### [try]\n",
        "-  noiseの値を変更しよう\n",
        "-  dの数値を変更しよう\n",
        "---------------------------------------------------------------------------------------------------------------------------------------------------------------------------------------------"
      ]
    },
    {
      "cell_type": "code",
      "metadata": {
        "id": "HNnaHrpImsne"
      },
      "source": [
        "import numpy as np\n",
        "import tensorflow as tf\n",
        "import matplotlib.pyplot as plt\n",
        "\n",
        "#パラメータ弄る為関数化\n",
        "def try_0(noise=0.3,d_1=-3,d_0=2,debug=True):\n",
        "    iters_num = 300\n",
        "    plot_interval = 10\n",
        "\n",
        "    # データを生成\n",
        "    n = 100\n",
        "    x = np.random.rand(n)\n",
        "    #d = 3 * x + 2\n",
        "    d = d_1 * x + d_0\n",
        "\n",
        "    # ノイズを加える\n",
        "    #noise = 0.3\n",
        "    d = d + noise * np.random.randn(n) \n",
        "    print(\"++++++++++++++++++++++++++++++++++++++++++\")\n",
        "    print(\"{}x + {}\".format(d_1,d_0))\n",
        "    print(\"noise={}\".format(noise))\n",
        "    # 入力値\n",
        "    xt = tf.placeholder(tf.float32)\n",
        "    dt = tf.placeholder(tf.float32)\n",
        "\n",
        "    # 最適化の対象の変数を初期化\n",
        "    W = tf.Variable(tf.zeros([1]))\n",
        "    b = tf.Variable(tf.zeros([1]))\n",
        "\n",
        "    y = W * xt + b\n",
        "\n",
        "    # 誤差関数 平均2乗誤差\n",
        "    loss = tf.reduce_mean(tf.square(y - dt))\n",
        "    optimizer = tf.train.GradientDescentOptimizer(0.1)\n",
        "    train = optimizer.minimize(loss)\n",
        "\n",
        "    # 初期化\n",
        "    init = tf.global_variables_initializer()\n",
        "    sess = tf.Session()\n",
        "    sess.run(init)\n",
        "\n",
        "    # 作成したデータをトレーニングデータとして準備\n",
        "    x_train = x.reshape(-1,1)\n",
        "    d_train = d.reshape(-1,1)\n",
        "\n",
        "    # トレーニング\n",
        "    for i in range(iters_num):\n",
        "        sess.run(train, feed_dict={xt:x_train,dt:d_train})\n",
        "        if (i+1) % plot_interval == 0:\n",
        "            loss_val = sess.run(loss, feed_dict={xt:x_train,dt:d_train}) \n",
        "            W_val = sess.run(W)\n",
        "            b_val = sess.run(b)\n",
        "            if debug: print('Generation: ' + str(i+1) + '. 誤差 = ' + str(loss_val))\n",
        "\n",
        "    if debug: print(W_val)\n",
        "    if debug: print(b_val)\n",
        "\n",
        "    #  予測関数\n",
        "    def predict(x):\n",
        "        return W_val * x + b_val\n",
        "\n",
        "    fig = plt.figure()\n",
        "    subplot = fig.add_subplot(1, 1, 1)\n",
        "    plt.scatter(x, d)\n",
        "    linex = np.linspace(0, 1, 2)\n",
        "    liney = predict(linex)\n",
        "    subplot.plot(linex,liney)\n",
        "    plt.show()"
      ],
      "execution_count": null,
      "outputs": []
    },
    {
      "cell_type": "code",
      "metadata": {
        "colab": {
          "base_uri": "https://localhost:8080/",
          "height": 877
        },
        "id": "nUNat1KevXvO",
        "outputId": "5b70016d-275c-45bc-ef96-b0c333864869"
      },
      "source": [
        "#まずはデフォルト値\n",
        "try_0()"
      ],
      "execution_count": null,
      "outputs": [
        {
          "output_type": "stream",
          "name": "stdout",
          "text": [
            "++++++++++++++++++++++++++++++++++++++++++\n",
            "-3x + 2\n",
            "noise=0.3\n",
            "Generation: 10. 誤差 = 0.7404473\n",
            "Generation: 20. 誤差 = 0.59454536\n",
            "Generation: 30. 誤差 = 0.48162138\n",
            "Generation: 40. 誤差 = 0.39399976\n",
            "Generation: 50. 誤差 = 0.32601032\n",
            "Generation: 60. 誤差 = 0.2732545\n",
            "Generation: 70. 誤差 = 0.23231906\n",
            "Generation: 80. 誤差 = 0.20055546\n",
            "Generation: 90. 誤差 = 0.17590879\n",
            "Generation: 100. 誤差 = 0.15678445\n",
            "Generation: 110. 誤差 = 0.14194499\n",
            "Generation: 120. 誤差 = 0.13043042\n",
            "Generation: 130. 誤差 = 0.12149576\n",
            "Generation: 140. 誤差 = 0.11456303\n",
            "Generation: 150. 誤差 = 0.10918361\n",
            "Generation: 160. 誤差 = 0.10500948\n",
            "Generation: 170. 誤差 = 0.1017706\n",
            "Generation: 180. 誤差 = 0.099257424\n",
            "Generation: 190. 誤差 = 0.09730734\n",
            "Generation: 200. 誤差 = 0.09579417\n",
            "Generation: 210. 誤差 = 0.09462006\n",
            "Generation: 220. 誤差 = 0.09370902\n",
            "Generation: 230. 誤差 = 0.0930021\n",
            "Generation: 240. 誤差 = 0.09245358\n",
            "Generation: 250. 誤差 = 0.09202794\n",
            "Generation: 260. 誤差 = 0.0916977\n",
            "Generation: 270. 誤差 = 0.09144143\n",
            "Generation: 280. 誤差 = 0.09124259\n",
            "Generation: 290. 誤差 = 0.091088295\n",
            "Generation: 300. 誤差 = 0.09096857\n",
            "[-2.9733176]\n",
            "[1.9910872]\n"
          ]
        },
        {
          "output_type": "display_data",
          "data": {
            "image/png": "[encoded data removed]",
            "text/plain": [
              "<Figure size 432x288 with 1 Axes>"
            ]
          },
          "metadata": {
            "needs_background": "light"
          }
        }
      ]
    },
    {
      "cell_type": "code",
      "metadata": {
        "colab": {
          "base_uri": "https://localhost:8080/",
          "height": 1000
        },
        "id": "CqyIQRVIveFI",
        "outputId": "998ddf84-70b4-4662-fc6b-77cd3a1718c9"
      },
      "source": [
        "#ノイズ比較(ノイズ大だと線形回帰は無理(非線形でも無理だろうけど))\n",
        "try_0(noise=0.03,debug=False)\n",
        "try_0(noise=3,debug=False)\n",
        "\n",
        "#dを弄る(bias項(0次項)の影響が大きいとnoiseが目立つのかな?(結果的に))\n",
        "try_0(d_1=100,debug=False)\n",
        "try_0(d_0=100,debug=False)"
      ],
      "execution_count": null,
      "outputs": [
        {
          "output_type": "stream",
          "name": "stdout",
          "text": [
            "++++++++++++++++++++++++++++++++++++++++++\n",
            "-3x + 2\n",
            "noise=0.03\n"
          ]
        },
        {
          "output_type": "display_data",
          "data": {
            "image/png": "[encoded data removed]",
            "text/plain": [
              "<Figure size 432x288 with 1 Axes>"
            ]
          },
          "metadata": {
            "needs_background": "light"
          }
        },
        {
          "output_type": "stream",
          "name": "stdout",
          "text": [
            "++++++++++++++++++++++++++++++++++++++++++\n",
            "-3x + 2\n",
            "noise=3\n"
          ]
        },
        {
          "output_type": "display_data",
          "data": {
            "image/png": "[encoded data removed]",
            "text/plain": [
              "<Figure size 432x288 with 1 Axes>"
            ]
          },
          "metadata": {
            "needs_background": "light"
          }
        },
        {
          "output_type": "stream",
          "name": "stdout",
          "text": [
            "++++++++++++++++++++++++++++++++++++++++++\n",
            "100x + 2\n",
            "noise=0.3\n"
          ]
        },
        {
          "output_type": "display_data",
          "data": {
            "image/png": "[encoded data removed]",
            "text/plain": [
              "<Figure size 432x288 with 1 Axes>"
            ]
          },
          "metadata": {
            "needs_background": "light"
          }
        },
        {
          "output_type": "stream",
          "name": "stdout",
          "text": [
            "++++++++++++++++++++++++++++++++++++++++++\n",
            "-3x + 100\n",
            "noise=0.3\n"
          ]
        },
        {
          "output_type": "display_data",
          "data": {
            "image/png": "[encoded data removed]",
            "text/plain": [
              "<Figure size 432x288 with 1 Axes>"
            ]
          },
          "metadata": {
            "needs_background": "light"
          }
        }
      ]
    },
    {
      "cell_type": "markdown",
      "metadata": {
        "id": "izYH2jFJmsng"
      },
      "source": [
        "## 非線形回帰\n",
        "---------------------------------------------------------------------------------------------------------------------------------------------------------------------------------------------\n",
        "### [try]\n",
        "-  noiseの値を変更しよう\n",
        "-  dの数値を変更しよう\n",
        "---------------------------------------------------------------------------------------------------------------------------------------------------------------------------------------------"
      ]
    },
    {
      "cell_type": "code",
      "metadata": {
        "id": "d89os5s6msni"
      },
      "source": [
        "import numpy as np\n",
        "import tensorflow as tf\n",
        "import matplotlib.pyplot as plt\n",
        "\n",
        "#tryの為関数化\n",
        "\n",
        "def try_1(noise=0.05,d_3=-0.4,d_2=1.6,d_1=-2.8,d_0=-1,debug=True):\n",
        "    iters_num = 10000\n",
        "    plot_interval = 100\n",
        "\n",
        "    # データを生成\n",
        "    n=100\n",
        "    x = np.random.rand(n).astype(np.float32) * 4 - 2\n",
        "    #d =  - 0.4 * x ** 3 + 1.6 * x ** 2 - 2.8 * x + 1\n",
        "    d =  d_3 * x ** 3 + d_2 * x ** 2 + d_1 * x + d_0\n",
        "\n",
        "    #  ノイズを加える\n",
        "    #noise = 0.05\n",
        "    d = d + noise * np.random.randn(n)\n",
        "    print(\"++++++++++++++++++++++++++++++++++++++++++\")\n",
        "    print(\"d={}x^3 + {}x^2 + {}x + {}\".format(d_3,d_2,d_1,d_0))\n",
        "    print(\"noise={}\".format(noise))\n",
        "\n",
        "    # モデル\n",
        "    # bを使っていないことに注意.\n",
        "    xt = tf.placeholder(tf.float32, [None, 4])\n",
        "    dt = tf.placeholder(tf.float32, [None, 1])\n",
        "    W = tf.Variable(tf.random_normal([4, 1], stddev=0.01))\n",
        "    y = tf.matmul(xt,W)\n",
        "\n",
        "    # 誤差関数 平均２乗誤差\n",
        "    loss = tf.reduce_mean(tf.square(y - dt))\n",
        "    optimizer = tf.train.AdamOptimizer(0.001)\n",
        "    train = optimizer.minimize(loss)\n",
        "\n",
        "    # 初期化\n",
        "    init = tf.global_variables_initializer()\n",
        "    sess = tf.Session()\n",
        "    sess.run(init)\n",
        "\n",
        "    # 作成したデータをトレーニングデータとして準備\n",
        "    d_train = d.reshape(-1,1)\n",
        "    x_train = np.zeros([n, 4])\n",
        "    for i in range(n):\n",
        "        for j in range(4):\n",
        "            x_train[i, j] = x[i]**j\n",
        "\n",
        "    #  トレーニング\n",
        "    for i in range(iters_num):\n",
        "        if (i+1) % plot_interval == 0:\n",
        "            loss_val = sess.run(loss, feed_dict={xt:x_train, dt:d_train}) \n",
        "            W_val = sess.run(W)\n",
        "            if debug: print('Generation: ' + str(i+1) + '. 誤差 = ' + str(loss_val))\n",
        "        sess.run(train, feed_dict={xt:x_train,dt:d_train})\n",
        "\n",
        "    if debug: print(W_val[::-1])\n",
        "        \n",
        "    # 予測関数\n",
        "    def predict(x):\n",
        "        result = 0.\n",
        "        for i in range(0,4):\n",
        "            result += W_val[i,0] * x ** i\n",
        "        return result\n",
        "\n",
        "    fig = plt.figure()\n",
        "    subplot = fig.add_subplot(1,1,1)\n",
        "    plt.scatter(x ,d)\n",
        "    linex = np.linspace(-2,2,100)\n",
        "    liney = predict(linex)\n",
        "    subplot.plot(linex,liney)\n",
        "    plt.show()"
      ],
      "execution_count": null,
      "outputs": []
    },
    {
      "cell_type": "code",
      "metadata": {
        "colab": {
          "base_uri": "https://localhost:8080/",
          "height": 1000
        },
        "id": "8i5SlIk1mzqY",
        "outputId": "3857e8bf-8948-4e10-b378-85316594721c"
      },
      "source": [
        "#まずは初期値で\n",
        "try_1()"
      ],
      "execution_count": null,
      "outputs": [
        {
          "output_type": "stream",
          "name": "stdout",
          "text": [
            "++++++++++++++++++++++++++++++++++++++++++\n",
            "d=-0.4x^3 + 1.6x^2 + -2.8x + -1\n",
            "noise=0.05\n",
            "Generation: 100. 誤差 = 21.812532\n",
            "Generation: 200. 誤差 = 17.732258\n",
            "Generation: 300. 誤差 = 14.327514\n",
            "Generation: 400. 誤差 = 11.518467\n",
            "Generation: 500. 誤差 = 9.228257\n",
            "Generation: 600. 誤差 = 7.383604\n",
            "Generation: 700. 誤差 = 5.9156184\n",
            "Generation: 800. 誤差 = 4.760714\n",
            "Generation: 900. 誤差 = 3.8615174\n",
            "Generation: 1000. 誤差 = 3.1674774\n",
            "Generation: 1100. 誤差 = 2.6351297\n",
            "Generation: 1200. 誤差 = 2.2280033\n",
            "Generation: 1300. 誤差 = 1.9161905\n",
            "Generation: 1400. 誤差 = 1.6757137\n",
            "Generation: 1500. 誤差 = 1.4878191\n",
            "Generation: 1600. 誤差 = 1.3382239\n",
            "Generation: 1700. 誤差 = 1.2163615\n",
            "Generation: 1800. 誤差 = 1.1146464\n",
            "Generation: 1900. 誤差 = 1.0277869\n",
            "Generation: 2000. 誤差 = 0.9521801\n",
            "Generation: 2100. 誤差 = 0.8854091\n",
            "Generation: 2200. 誤差 = 0.82585025\n",
            "Generation: 2300. 誤差 = 0.7723857\n",
            "Generation: 2400. 誤差 = 0.72420335\n",
            "Generation: 2500. 誤差 = 0.6806722\n",
            "Generation: 2600. 誤差 = 0.6412661\n",
            "Generation: 2700. 誤差 = 0.605518\n",
            "Generation: 2800. 誤差 = 0.5730017\n",
            "Generation: 2900. 誤差 = 0.54331964\n",
            "Generation: 3000. 誤差 = 0.5161005\n",
            "Generation: 3100. 誤差 = 0.49100077\n",
            "Generation: 3200. 誤差 = 0.4677038\n",
            "Generation: 3300. 誤差 = 0.44592312\n",
            "Generation: 3400. 誤差 = 0.42540276\n",
            "Generation: 3500. 誤差 = 0.40591815\n",
            "Generation: 3600. 誤差 = 0.38727677\n",
            "Generation: 3700. 誤差 = 0.3693169\n",
            "Generation: 3800. 誤差 = 0.3519075\n",
            "Generation: 3900. 誤差 = 0.3349454\n",
            "Generation: 4000. 誤差 = 0.31835404\n",
            "Generation: 4100. 誤差 = 0.30208012\n",
            "Generation: 4200. 誤差 = 0.28609124\n",
            "Generation: 4300. 誤差 = 0.2703719\n",
            "Generation: 4400. 誤差 = 0.25492173\n",
            "Generation: 4500. 誤差 = 0.23975126\n",
            "Generation: 4600. 誤差 = 0.2248798\n",
            "Generation: 4700. 誤差 = 0.21033283\n",
            "Generation: 4800. 誤差 = 0.19613987\n",
            "Generation: 4900. 誤差 = 0.18233263\n",
            "Generation: 5000. 誤差 = 0.16894327\n",
            "Generation: 5100. 誤差 = 0.15600377\n",
            "Generation: 5200. 誤差 = 0.14354415\n",
            "Generation: 5300. 誤差 = 0.13159189\n",
            "Generation: 5400. 誤差 = 0.12017321\n",
            "Generation: 5500. 誤差 = 0.10930906\n",
            "Generation: 5600. 誤差 = 0.09901753\n",
            "Generation: 5700. 誤差 = 0.089312576\n",
            "Generation: 5800. 誤差 = 0.08020401\n",
            "Generation: 5900. 誤差 = 0.071697235\n",
            "Generation: 6000. 誤差 = 0.06379348\n",
            "Generation: 6100. 誤差 = 0.0564894\n",
            "Generation: 6200. 誤差 = 0.049777903\n",
            "Generation: 6300. 誤差 = 0.0436471\n",
            "Generation: 6400. 誤差 = 0.03808192\n",
            "Generation: 6500. 誤差 = 0.033063024\n",
            "Generation: 6600. 誤差 = 0.028567828\n",
            "Generation: 6700. 誤差 = 0.024570914\n",
            "Generation: 6800. 誤差 = 0.021044154\n",
            "Generation: 6900. 誤差 = 0.017957473\n",
            "Generation: 7000. 誤差 = 0.015278591\n",
            "Generation: 7100. 誤差 = 0.01297464\n",
            "Generation: 7200. 誤差 = 0.011011934\n",
            "Generation: 7300. 誤差 = 0.009356766\n",
            "Generation: 7400. 誤差 = 0.007975697\n",
            "Generation: 7500. 誤差 = 0.0068362677\n",
            "Generation: 7600. 誤差 = 0.0059073255\n",
            "Generation: 7700. 誤差 = 0.005159517\n",
            "Generation: 7800. 誤差 = 0.0045654895\n",
            "Generation: 7900. 誤差 = 0.004100239\n",
            "Generation: 8000. 誤差 = 0.0037412434\n",
            "Generation: 8100. 誤差 = 0.0034685738\n",
            "Generation: 8200. 誤差 = 0.0032648696\n",
            "Generation: 8300. 誤差 = 0.0031153413\n",
            "Generation: 8400. 誤差 = 0.00300761\n",
            "Generation: 8500. 誤差 = 0.0029314887\n",
            "Generation: 8600. 誤差 = 0.0028788007\n",
            "Generation: 8700. 誤差 = 0.002843122\n",
            "Generation: 8800. 誤差 = 0.0028195074\n",
            "Generation: 8900. 誤差 = 0.0028042495\n",
            "Generation: 9000. 誤差 = 0.0027946443\n",
            "Generation: 9100. 誤差 = 0.0027887546\n",
            "Generation: 9200. 誤差 = 0.002785247\n",
            "Generation: 9300. 誤差 = 0.0027832147\n",
            "Generation: 9400. 誤差 = 0.0027820743\n",
            "Generation: 9500. 誤差 = 0.0027814645\n",
            "Generation: 9600. 誤差 = 0.002781137\n",
            "Generation: 9700. 誤差 = 0.0027809727\n",
            "Generation: 9800. 誤差 = 0.002780893\n",
            "Generation: 9900. 誤差 = 0.0027808615\n",
            "Generation: 10000. 誤差 = 0.002780842\n",
            "[[-0.39368534]\n",
            " [ 1.6091269 ]\n",
            " [-2.8210716 ]\n",
            " [-1.0092902 ]]\n"
          ]
        },
        {
          "output_type": "display_data",
          "data": {
            "image/png": "[encoded data removed]",
            "text/plain": [
              "<Figure size 432x288 with 1 Axes>"
            ]
          },
          "metadata": {
            "needs_background": "light"
          }
        }
      ]
    },
    {
      "cell_type": "code",
      "metadata": {
        "colab": {
          "base_uri": "https://localhost:8080/",
          "height": 1000
        },
        "id": "jZBzCrycnSmw",
        "outputId": "306b2e3b-417a-4de1-931a-8bc9ae1d9503"
      },
      "source": [
        "#パラメータ変更でグラフ変化をザックリ観察\n",
        "try_1(debug=False)\n",
        "\n",
        "#ノイズが大きくなるとdの値にノイズが目立つ(だけのこと)\n",
        "try_1(noise=0.5,debug=False)\n",
        "try_1(noise=0.005,debug=False)\n",
        "\n",
        "#dに対して特定の次数項を強くしただけ\n",
        "#(dのグラフが変化、結果学習が収束し難くなる場合がある)\n",
        "try_1(noise=0.05,d_3=10,debug=False)\n",
        "try_1(noise=0.05,d_2=10,debug=False)\n",
        "try_1(noise=0.05,d_1=10,debug=False)\n",
        "try_1(noise=0.05,d_0=10,debug=False)"
      ],
      "execution_count": null,
      "outputs": [
        {
          "output_type": "stream",
          "name": "stdout",
          "text": [
            "++++++++++++++++++++++++++++++++++++++++++\n",
            "d=-0.4x^3 + 1.6x^2 + -2.8x + -1\n",
            "noise=0.05\n"
          ]
        },
        {
          "output_type": "display_data",
          "data": {
            "image/png": "[encoded data removed]",
            "text/plain": [
              "<Figure size 432x288 with 1 Axes>"
            ]
          },
          "metadata": {
            "needs_background": "light"
          }
        },
        {
          "output_type": "stream",
          "name": "stdout",
          "text": [
            "++++++++++++++++++++++++++++++++++++++++++\n",
            "d=-0.4x^3 + 1.6x^2 + -2.8x + -1\n",
            "noise=0.5\n"
          ]
        },
        {
          "output_type": "display_data",
          "data": {
            "image/png": "[encoded data removed]",
            "text/plain": [
              "<Figure size 432x288 with 1 Axes>"
            ]
          },
          "metadata": {
            "needs_background": "light"
          }
        },
        {
          "output_type": "stream",
          "name": "stdout",
          "text": [
            "++++++++++++++++++++++++++++++++++++++++++\n",
            "d=-0.4x^3 + 1.6x^2 + -2.8x + -1\n",
            "noise=0.005\n"
          ]
        },
        {
          "output_type": "display_data",
          "data": {
            "image/png": "[encoded data removed]",
            "text/plain": [
              "<Figure size 432x288 with 1 Axes>"
            ]
          },
          "metadata": {
            "needs_background": "light"
          }
        },
        {
          "output_type": "stream",
          "name": "stdout",
          "text": [
            "++++++++++++++++++++++++++++++++++++++++++\n",
            "d=10x^3 + 1.6x^2 + -2.8x + -1\n",
            "noise=0.05\n"
          ]
        },
        {
          "output_type": "display_data",
          "data": {
            "image/png": "[encoded data removed]",
            "text/plain": [
              "<Figure size 432x288 with 1 Axes>"
            ]
          },
          "metadata": {
            "needs_background": "light"
          }
        },
        {
          "output_type": "stream",
          "name": "stdout",
          "text": [
            "++++++++++++++++++++++++++++++++++++++++++\n",
            "d=-0.4x^3 + 10x^2 + -2.8x + -1\n",
            "noise=0.05\n"
          ]
        },
        {
          "output_type": "display_data",
          "data": {
            "image/png": "[encoded data removed]",
            "text/plain": [
              "<Figure size 432x288 with 1 Axes>"
            ]
          },
          "metadata": {
            "needs_background": "light"
          }
        },
        {
          "output_type": "stream",
          "name": "stdout",
          "text": [
            "++++++++++++++++++++++++++++++++++++++++++\n",
            "d=-0.4x^3 + 1.6x^2 + 10x + -1\n",
            "noise=0.05\n"
          ]
        },
        {
          "output_type": "display_data",
          "data": {
            "image/png": "[encoded data removed]",
            "text/plain": [
              "<Figure size 432x288 with 1 Axes>"
            ]
          },
          "metadata": {
            "needs_background": "light"
          }
        },
        {
          "output_type": "stream",
          "name": "stdout",
          "text": [
            "++++++++++++++++++++++++++++++++++++++++++\n",
            "d=-0.4x^3 + 1.6x^2 + -2.8x + 10\n",
            "noise=0.05\n"
          ]
        },
        {
          "output_type": "display_data",
          "data": {
            "image/png": "[encoded data removed]",
            "text/plain": [
              "<Figure size 432x288 with 1 Axes>"
            ]
          },
          "metadata": {
            "needs_background": "light"
          }
        }
      ]
    },
    {
      "cell_type": "code",
      "metadata": {
        "id": "z2bppwRTtt4m",
        "colab": {
          "base_uri": "https://localhost:8080/",
          "height": 1000
        },
        "outputId": "0c1ba0af-565a-47c8-ef4a-7dc3bec9913e"
      },
      "source": [
        "#一応デフォルトと次数変化を比較(lossの収束具合をみる)\n",
        "try_1()"
      ],
      "execution_count": null,
      "outputs": [
        {
          "output_type": "stream",
          "name": "stdout",
          "text": [
            "++++++++++++++++++++++++++++++++++++++++++\n",
            "d=-0.4x^3 + 1.6x^2 + -2.8x + -1\n",
            "noise=0.05\n",
            "Generation: 100. 誤差 = 19.2272\n",
            "Generation: 200. 誤差 = 15.872889\n",
            "Generation: 300. 誤差 = 13.056727\n",
            "Generation: 400. 誤差 = 10.712964\n",
            "Generation: 500. 誤差 = 8.77814\n",
            "Generation: 600. 誤差 = 7.1920185\n",
            "Generation: 700. 誤差 = 5.898806\n",
            "Generation: 800. 誤差 = 4.8484936\n",
            "Generation: 900. 誤差 = 3.9978573\n",
            "Generation: 1000. 誤差 = 3.3107445\n",
            "Generation: 1100. 誤差 = 2.7575219\n",
            "Generation: 1200. 誤差 = 2.3139842\n",
            "Generation: 1300. 誤差 = 1.9601469\n",
            "Generation: 1400. 誤差 = 1.6792623\n",
            "Generation: 1500. 誤差 = 1.4571395\n",
            "Generation: 1600. 誤差 = 1.2817509\n",
            "Generation: 1700. 誤差 = 1.1429818\n",
            "Generation: 1800. 誤差 = 1.0324602\n",
            "Generation: 1900. 誤差 = 0.9433998\n",
            "Generation: 2000. 誤差 = 0.8704311\n",
            "Generation: 2100. 誤差 = 0.8094146\n",
            "Generation: 2200. 誤差 = 0.7572452\n",
            "Generation: 2300. 誤差 = 0.71165574\n",
            "Generation: 2400. 誤差 = 0.6710328\n",
            "Generation: 2500. 誤差 = 0.63425183\n",
            "Generation: 2600. 誤差 = 0.6005376\n",
            "Generation: 2700. 誤差 = 0.56935596\n",
            "Generation: 2800. 誤差 = 0.5403322\n",
            "Generation: 2900. 誤差 = 0.5131891\n",
            "Generation: 3000. 誤差 = 0.48771024\n",
            "Generation: 3100. 誤差 = 0.4637142\n",
            "Generation: 3200. 誤差 = 0.44104034\n",
            "Generation: 3300. 誤差 = 0.41954228\n",
            "Generation: 3400. 誤差 = 0.39908373\n",
            "Generation: 3500. 誤差 = 0.3795391\n",
            "Generation: 3600. 誤差 = 0.36079383\n",
            "Generation: 3700. 誤差 = 0.3427454\n",
            "Generation: 3800. 誤差 = 0.3253046\n",
            "Generation: 3900. 誤差 = 0.30839664\n",
            "Generation: 4000. 誤差 = 0.29195988\n",
            "Generation: 4100. 誤差 = 0.2759476\n",
            "Generation: 4200. 誤差 = 0.2603267\n",
            "Generation: 4300. 誤差 = 0.24507637\n",
            "Generation: 4400. 誤差 = 0.23018712\n",
            "Generation: 4500. 誤差 = 0.2156597\n",
            "Generation: 4600. 誤差 = 0.2015025\n",
            "Generation: 4700. 誤差 = 0.18773067\n",
            "Generation: 4800. 誤差 = 0.17436396\n",
            "Generation: 4900. 誤差 = 0.16142516\n",
            "Generation: 5000. 誤差 = 0.14893872\n",
            "Generation: 5100. 誤差 = 0.13692945\n",
            "Generation: 5200. 誤差 = 0.12542093\n",
            "Generation: 5300. 誤差 = 0.11443598\n",
            "Generation: 5400. 誤差 = 0.103994094\n",
            "Generation: 5500. 誤差 = 0.09411193\n",
            "Generation: 5600. 誤差 = 0.08480211\n",
            "Generation: 5700. 誤差 = 0.07607372\n",
            "Generation: 5800. 誤差 = 0.06793159\n",
            "Generation: 5900. 誤差 = 0.06037649\n",
            "Generation: 6000. 誤差 = 0.053404745\n",
            "Generation: 6100. 誤差 = 0.047008723\n",
            "Generation: 6200. 誤差 = 0.041176282\n",
            "Generation: 6300. 誤差 = 0.035891905\n",
            "Generation: 6400. 誤差 = 0.031136122\n",
            "Generation: 6500. 誤差 = 0.026886277\n",
            "Generation: 6600. 誤差 = 0.023116743\n",
            "Generation: 6700. 誤差 = 0.019799456\n",
            "Generation: 6800. 誤差 = 0.016904198\n",
            "Generation: 6900. 誤差 = 0.014399494\n",
            "Generation: 7000. 誤差 = 0.012252537\n",
            "Generation: 7100. 誤差 = 0.010430131\n",
            "Generation: 7200. 誤差 = 0.008899093\n",
            "Generation: 7300. 誤差 = 0.00762688\n",
            "Generation: 7400. 誤差 = 0.0065818555\n",
            "Generation: 7500. 誤差 = 0.005733907\n",
            "Generation: 7600. 誤差 = 0.0050546955\n",
            "Generation: 7700. 誤差 = 0.0045180293\n",
            "Generation: 7800. 誤差 = 0.004100069\n",
            "Generation: 7900. 誤差 = 0.0037794851\n",
            "Generation: 8000. 誤差 = 0.0035374956\n",
            "Generation: 8100. 誤差 = 0.0033579532\n",
            "Generation: 8200. 誤差 = 0.0032271086\n",
            "Generation: 8300. 誤差 = 0.0031335442\n",
            "Generation: 8400. 誤差 = 0.003067954\n",
            "Generation: 8500. 誤差 = 0.0030229343\n",
            "Generation: 8600. 誤差 = 0.002992709\n",
            "Generation: 8700. 誤差 = 0.0029728974\n",
            "Generation: 8800. 誤差 = 0.0029602211\n",
            "Generation: 8900. 誤差 = 0.0029523245\n",
            "Generation: 9000. 誤差 = 0.002947531\n",
            "Generation: 9100. 誤差 = 0.002944714\n",
            "Generation: 9200. 誤差 = 0.0029430971\n",
            "Generation: 9300. 誤差 = 0.0029422096\n",
            "Generation: 9400. 誤差 = 0.0029417279\n",
            "Generation: 9500. 誤差 = 0.0029414825\n",
            "Generation: 9600. 誤差 = 0.002941365\n",
            "Generation: 9700. 誤差 = 0.0029413074\n",
            "Generation: 9800. 誤差 = 0.0029412815\n",
            "Generation: 9900. 誤差 = 0.0029412676\n",
            "Generation: 10000. 誤差 = 0.0029412603\n",
            "[[-0.405895 ]\n",
            " [ 1.5998805]\n",
            " [-2.788499 ]\n",
            " [-0.9964481]]\n"
          ]
        },
        {
          "output_type": "display_data",
          "data": {
            "image/png": "[encoded data removed]",
            "text/plain": [
              "<Figure size 432x288 with 1 Axes>"
            ]
          },
          "metadata": {
            "needs_background": "light"
          }
        }
      ]
    },
    {
      "cell_type": "code",
      "metadata": {
        "id": "sAnmcqi9uCZc",
        "colab": {
          "base_uri": "https://localhost:8080/",
          "height": 1000
        },
        "outputId": "7c68cdf5-0f26-45b4-e69e-489375e8e12a"
      },
      "source": [
        "#dの次数弄った場合のloss収束はやはり不十分\n",
        "try_1(noise=0.05,d_0=10)"
      ],
      "execution_count": null,
      "outputs": [
        {
          "output_type": "stream",
          "name": "stdout",
          "text": [
            "++++++++++++++++++++++++++++++++++++++++++\n",
            "d=-0.4x^3 + 1.6x^2 + -2.8x + 10\n",
            "noise=0.05\n",
            "Generation: 100. 誤差 = 149.10852\n",
            "Generation: 200. 誤差 = 142.04779\n",
            "Generation: 300. 誤差 = 135.44276\n",
            "Generation: 400. 誤差 = 129.25699\n",
            "Generation: 500. 誤差 = 123.455475\n",
            "Generation: 600. 誤差 = 118.004776\n",
            "Generation: 700. 誤差 = 112.87314\n",
            "Generation: 800. 誤差 = 108.03066\n",
            "Generation: 900. 誤差 = 103.44953\n",
            "Generation: 1000. 誤差 = 99.10417\n",
            "Generation: 1100. 誤差 = 94.971466\n",
            "Generation: 1200. 誤差 = 91.03086\n",
            "Generation: 1300. 誤差 = 87.26445\n",
            "Generation: 1400. 誤差 = 83.656975\n",
            "Generation: 1500. 誤差 = 80.19558\n",
            "Generation: 1600. 誤差 = 76.86978\n",
            "Generation: 1700. 誤差 = 73.67106\n",
            "Generation: 1800. 誤差 = 70.59253\n",
            "Generation: 1900. 誤差 = 67.62871\n",
            "Generation: 2000. 誤差 = 64.77514\n",
            "Generation: 2100. 誤差 = 62.028088\n",
            "Generation: 2200. 誤差 = 59.38442\n",
            "Generation: 2300. 誤差 = 56.84134\n",
            "Generation: 2400. 誤差 = 54.396328\n",
            "Generation: 2500. 誤差 = 52.047043\n",
            "Generation: 2600. 誤差 = 49.79125\n",
            "Generation: 2700. 誤差 = 47.626812\n",
            "Generation: 2800. 誤差 = 45.551632\n",
            "Generation: 2900. 誤差 = 43.563652\n",
            "Generation: 3000. 誤差 = 41.660843\n",
            "Generation: 3100. 誤差 = 39.841232\n",
            "Generation: 3200. 誤差 = 38.102806\n",
            "Generation: 3300. 誤差 = 36.44358\n",
            "Generation: 3400. 誤差 = 34.861553\n",
            "Generation: 3500. 誤差 = 33.354725\n",
            "Generation: 3600. 誤差 = 31.92107\n",
            "Generation: 3700. 誤差 = 30.55854\n",
            "Generation: 3800. 誤差 = 29.265066\n",
            "Generation: 3900. 誤差 = 28.03854\n",
            "Generation: 4000. 誤差 = 26.876823\n",
            "Generation: 4100. 誤差 = 25.777727\n",
            "Generation: 4200. 誤差 = 24.739021\n",
            "Generation: 4300. 誤差 = 23.758423\n",
            "Generation: 4400. 誤差 = 22.83359\n",
            "Generation: 4500. 誤差 = 21.962147\n",
            "Generation: 4600. 誤差 = 21.141655\n",
            "Generation: 4700. 誤差 = 20.369621\n",
            "Generation: 4800. 誤差 = 19.643509\n",
            "Generation: 4900. 誤差 = 18.96071\n",
            "Generation: 5000. 誤差 = 18.318605\n",
            "Generation: 5100. 誤差 = 17.714523\n",
            "Generation: 5200. 誤差 = 17.14576\n",
            "Generation: 5300. 誤差 = 16.609613\n",
            "Generation: 5400. 誤差 = 16.103376\n",
            "Generation: 5500. 誤差 = 15.62435\n",
            "Generation: 5600. 誤差 = 15.169874\n",
            "Generation: 5700. 誤差 = 14.737354\n",
            "Generation: 5800. 誤差 = 14.324264\n",
            "Generation: 5900. 誤差 = 13.928181\n",
            "Generation: 6000. 誤差 = 13.546831\n",
            "Generation: 6100. 誤差 = 13.178076\n",
            "Generation: 6200. 誤差 = 12.820035\n",
            "Generation: 6300. 誤差 = 12.470785\n",
            "Generation: 6400. 誤差 = 12.128849\n",
            "Generation: 6500. 誤差 = 11.792894\n",
            "Generation: 6600. 誤差 = 11.461803\n",
            "Generation: 6700. 誤差 = 11.13468\n",
            "Generation: 6800. 誤差 = 10.810835\n",
            "Generation: 6900. 誤差 = 10.489779\n",
            "Generation: 7000. 誤差 = 10.171199\n",
            "Generation: 7100. 誤差 = 9.854931\n",
            "Generation: 7200. 誤差 = 9.540955\n",
            "Generation: 7300. 誤差 = 9.22934\n",
            "Generation: 7400. 誤差 = 8.920246\n",
            "Generation: 7500. 誤差 = 8.613889\n",
            "Generation: 7600. 誤差 = 8.3105345\n",
            "Generation: 7700. 誤差 = 8.0104685\n",
            "Generation: 7800. 誤差 = 7.7139897\n",
            "Generation: 7900. 誤差 = 7.421399\n",
            "Generation: 8000. 誤差 = 7.132994\n",
            "Generation: 8100. 誤差 = 6.8490605\n",
            "Generation: 8200. 誤差 = 6.5698695\n",
            "Generation: 8300. 誤差 = 6.2956734\n",
            "Generation: 8400. 誤差 = 6.026705\n",
            "Generation: 8500. 誤差 = 5.763174\n",
            "Generation: 8600. 誤差 = 5.5052733\n",
            "Generation: 8700. 誤差 = 5.253187\n",
            "Generation: 8800. 誤差 = 5.007008\n",
            "Generation: 8900. 誤差 = 4.766985\n",
            "Generation: 9000. 誤差 = 4.533165\n",
            "Generation: 9100. 誤差 = 4.305653\n",
            "Generation: 9200. 誤差 = 4.0845275\n",
            "Generation: 9300. 誤差 = 3.8698673\n",
            "Generation: 9400. 誤差 = 3.6617146\n",
            "Generation: 9500. 誤差 = 3.4601114\n",
            "Generation: 9600. 誤差 = 3.265081\n",
            "Generation: 9700. 誤差 = 3.076635\n",
            "Generation: 9800. 誤差 = 2.8947766\n",
            "Generation: 9900. 誤差 = 2.7194948\n",
            "Generation: 10000. 誤差 = 2.5507646\n",
            "[[-0.32196966]\n",
            " [ 2.6229632 ]\n",
            " [-3.1154914 ]\n",
            " [ 7.784573  ]]\n"
          ]
        },
        {
          "output_type": "display_data",
          "data": {
            "image/png": "[encoded data removed]",
            "text/plain": [
              "<Figure size 432x288 with 1 Axes>"
            ]
          },
          "metadata": {
            "needs_background": "light"
          }
        }
      ]
    },
    {
      "cell_type": "markdown",
      "metadata": {
        "id": "J9Xl_CRpmsnl"
      },
      "source": [
        "---------------------------------------------------------------------------------------------------------------------------------------------------------------------------------------------\n",
        "## [try]\n",
        "-  次の式をモデルとして回帰を行おう\n",
        "$$ y=30x^{2} +0.5x+0.2 $$<br>\n",
        "-  誤差が収束するようiters_numやlearning_rateを調整しよう\n",
        "---------------------------------------------------------------------------------------------------------------------------------------------------------------------------------------------"
      ]
    },
    {
      "cell_type": "code",
      "metadata": {
        "id": "M3-lGRNfmsnm"
      },
      "source": [
        "import numpy as np\n",
        "import tensorflow as tf\n",
        "import matplotlib.pyplot as plt\n",
        "\n",
        "#tryの為関数化\n",
        "def try_2(iters_num=10000, learning_rate=0.001, debug=True):\n",
        "    #iters_num = 10000\n",
        "    plot_interval = 100\n",
        "\n",
        "    # データを生成\n",
        "    n=100\n",
        "    x = np.random.rand(n).astype(np.float32) * 4 - 2\n",
        "    d =  30 * x ** 3  + 0.5 * x + 0.2\n",
        "\n",
        "    #  ノイズを加える\n",
        "    noise = 0.05\n",
        "    d = d + noise * np.random.randn(n)\n",
        "    print(\"++++++++++++++++++++++++++++++++++++++++++\")\n",
        "    print(\"learning_rate={} iter={}\".format(learning_rate,iters_num))\n",
        "\n",
        "    # モデル\n",
        "    # bを使っていないことに注意.\n",
        "    xt = tf.placeholder(tf.float32, [None, 4])\n",
        "    dt = tf.placeholder(tf.float32, [None, 1])\n",
        "    W = tf.Variable(tf.random_normal([4, 1], stddev=0.01))\n",
        "    y = tf.matmul(xt,W)\n",
        "\n",
        "    # 誤差関数 平均２乗誤差\n",
        "    loss = tf.reduce_mean(tf.square(y - dt))\n",
        "    optimizer = tf.train.AdamOptimizer(learning_rate=learning_rate)\n",
        "    train = optimizer.minimize(loss)\n",
        "\n",
        "    # 初期化\n",
        "    init = tf.global_variables_initializer()\n",
        "    sess = tf.Session()\n",
        "    sess.run(init)\n",
        "\n",
        "    # 作成したデータをトレーニングデータとして準備\n",
        "    d_train = d.reshape(-1,1)\n",
        "    x_train = np.zeros([n, 4])\n",
        "    for i in range(n):\n",
        "        for j in range(4):\n",
        "            x_train[i, j] = x[i]**j\n",
        "\n",
        "    #  トレーニング\n",
        "    for i in range(iters_num):\n",
        "        if (i+1) % plot_interval == 0:\n",
        "            loss_val = sess.run(loss, feed_dict={xt:x_train, dt:d_train}) \n",
        "            W_val = sess.run(W)\n",
        "            if debug: print('Generation: ' + str(i+1) + '. 誤差 = ' + str(loss_val))\n",
        "        sess.run(train, feed_dict={xt:x_train,dt:d_train})\n",
        "\n",
        "    if debug: print(W_val[::-1])\n",
        "        \n",
        "    # 予測関数\n",
        "    def predict(x):\n",
        "        result = 0.\n",
        "        for i in range(0,4):\n",
        "            result += W_val[i,0] * x ** i\n",
        "        return result\n",
        "\n",
        "    fig = plt.figure()\n",
        "    subplot = fig.add_subplot(1,1,1)\n",
        "    plt.scatter(x ,d)\n",
        "    linex = np.linspace(-2,2,100)\n",
        "    liney = predict(linex)\n",
        "    subplot.plot(linex,liney)\n",
        "    plt.show()"
      ],
      "execution_count": null,
      "outputs": []
    },
    {
      "cell_type": "code",
      "metadata": {
        "colab": {
          "base_uri": "https://localhost:8080/",
          "height": 1000
        },
        "id": "53GL4wCIxe1Z",
        "outputId": "1c1bb89e-4b48-4b16-954e-55b96699f175"
      },
      "source": [
        "#とりあえず実行\n",
        "#lossが十分に収束できない\n",
        "try_2()"
      ],
      "execution_count": null,
      "outputs": [
        {
          "output_type": "stream",
          "name": "stdout",
          "text": [
            "++++++++++++++++++++++++++++++++++++++++++\n",
            "learning_rate=0.001 iter=10000\n",
            "Generation: 100. 誤差 = 8193.371\n",
            "Generation: 200. 誤差 = 8111.0356\n",
            "Generation: 300. 誤差 = 8029.496\n",
            "Generation: 400. 誤差 = 7948.739\n",
            "Generation: 500. 誤差 = 7868.7485\n",
            "Generation: 600. 誤差 = 7789.5117\n",
            "Generation: 700. 誤差 = 7711.0137\n",
            "Generation: 800. 誤差 = 7633.241\n",
            "Generation: 900. 誤差 = 7556.183\n",
            "Generation: 1000. 誤差 = 7479.825\n",
            "Generation: 1100. 誤差 = 7404.156\n",
            "Generation: 1200. 誤差 = 7329.1636\n",
            "Generation: 1300. 誤差 = 7254.837\n",
            "Generation: 1400. 誤差 = 7181.166\n",
            "Generation: 1500. 誤差 = 7108.1406\n",
            "Generation: 1600. 誤差 = 7035.748\n",
            "Generation: 1700. 誤差 = 6963.9805\n",
            "Generation: 1800. 誤差 = 6892.828\n",
            "Generation: 1900. 誤差 = 6822.2817\n",
            "Generation: 2000. 誤差 = 6752.333\n",
            "Generation: 2100. 誤差 = 6682.9727\n",
            "Generation: 2200. 誤差 = 6614.1924\n",
            "Generation: 2300. 誤差 = 6545.9844\n",
            "Generation: 2400. 誤差 = 6478.3413\n",
            "Generation: 2500. 誤差 = 6411.2544\n",
            "Generation: 2600. 誤差 = 6344.7183\n",
            "Generation: 2700. 誤差 = 6278.7236\n",
            "Generation: 2800. 誤差 = 6213.2656\n",
            "Generation: 2900. 誤差 = 6148.335\n",
            "Generation: 3000. 誤差 = 6083.9277\n",
            "Generation: 3100. 誤差 = 6020.0356\n",
            "Generation: 3200. 誤差 = 5956.652\n",
            "Generation: 3300. 誤差 = 5893.77\n",
            "Generation: 3400. 誤差 = 5831.3857\n",
            "Generation: 3500. 誤差 = 5769.4893\n",
            "Generation: 3600. 誤差 = 5708.078\n",
            "Generation: 3700. 誤差 = 5647.1426\n",
            "Generation: 3800. 誤差 = 5586.678\n",
            "Generation: 3900. 誤差 = 5526.677\n",
            "Generation: 4000. 誤差 = 5467.134\n",
            "Generation: 4100. 誤差 = 5408.041\n",
            "Generation: 4200. 誤差 = 5349.3926\n",
            "Generation: 4300. 誤差 = 5291.1807\n",
            "Generation: 4400. 誤差 = 5233.3984\n",
            "Generation: 4500. 誤差 = 5176.039\n",
            "Generation: 4600. 誤差 = 5119.094\n",
            "Generation: 4700. 誤差 = 5062.5576\n",
            "Generation: 4800. 誤差 = 5006.4214\n",
            "Generation: 4900. 誤差 = 4950.6826\n",
            "Generation: 5000. 誤差 = 4895.3296\n",
            "Generation: 5100. 誤差 = 4840.356\n",
            "Generation: 5200. 誤差 = 4785.7563\n",
            "Generation: 5300. 誤差 = 4731.529\n",
            "Generation: 5400. 誤差 = 4677.6685\n",
            "Generation: 5500. 誤差 = 4624.167\n",
            "Generation: 5600. 誤差 = 4571.0215\n",
            "Generation: 5700. 誤差 = 4518.2383\n",
            "Generation: 5800. 誤差 = 4465.805\n",
            "Generation: 5900. 誤差 = 4413.7227\n",
            "Generation: 6000. 誤差 = 4362.0\n",
            "Generation: 6100. 誤差 = 4310.6265\n",
            "Generation: 6200. 誤差 = 4259.604\n",
            "Generation: 6300. 誤差 = 4208.9385\n",
            "Generation: 6400. 誤差 = 4158.6245\n",
            "Generation: 6500. 誤差 = 4108.662\n",
            "Generation: 6600. 誤差 = 4059.058\n",
            "Generation: 6700. 誤差 = 4009.808\n",
            "Generation: 6800. 誤差 = 3960.9111\n",
            "Generation: 6900. 誤差 = 3912.3691\n",
            "Generation: 7000. 誤差 = 3864.186\n",
            "Generation: 7100. 誤差 = 3816.3562\n",
            "Generation: 7200. 誤差 = 3768.8806\n",
            "Generation: 7300. 誤差 = 3721.7622\n",
            "Generation: 7400. 誤差 = 3675.0012\n",
            "Generation: 7500. 誤差 = 3628.594\n",
            "Generation: 7600. 誤差 = 3582.541\n",
            "Generation: 7700. 誤差 = 3536.8425\n",
            "Generation: 7800. 誤差 = 3491.5007\n",
            "Generation: 7900. 誤差 = 3446.5115\n",
            "Generation: 8000. 誤差 = 3401.8748\n",
            "Generation: 8100. 誤差 = 3357.5903\n",
            "Generation: 8200. 誤差 = 3313.6575\n",
            "Generation: 8300. 誤差 = 3270.078\n",
            "Generation: 8400. 誤差 = 3226.846\n",
            "Generation: 8500. 誤差 = 3183.9734\n",
            "Generation: 8600. 誤差 = 3141.4353\n",
            "Generation: 8700. 誤差 = 3099.2537\n",
            "Generation: 8800. 誤差 = 3057.4148\n",
            "Generation: 8900. 誤差 = 3015.9182\n",
            "Generation: 9000. 誤差 = 2974.7727\n",
            "Generation: 9100. 誤差 = 2933.9578\n",
            "Generation: 9200. 誤差 = 2893.501\n",
            "Generation: 9300. 誤差 = 2853.372\n",
            "Generation: 9400. 誤差 = 2813.5889\n",
            "Generation: 9500. 誤差 = 2774.1406\n",
            "Generation: 9600. 誤差 = 2735.0254\n",
            "Generation: 9700. 誤差 = 2696.252\n",
            "Generation: 9800. 誤差 = 2657.7993\n",
            "Generation: 9900. 誤差 = 2619.6943\n",
            "Generation: 10000. 誤差 = 2581.903\n",
            "[[ 9.509946 ]\n",
            " [ 7.241711 ]\n",
            " [ 9.493332 ]\n",
            " [-2.0559425]]\n"
          ]
        },
        {
          "output_type": "display_data",
          "data": {
            "image/png": "[encoded data removed]",
            "text/plain": [
              "<Figure size 432x288 with 1 Axes>"
            ]
          },
          "metadata": {
            "needs_background": "light"
          }
        }
      ]
    },
    {
      "cell_type": "code",
      "metadata": {
        "colab": {
          "base_uri": "https://localhost:8080/",
          "height": 1000
        },
        "id": "bnKmTrPB0KO3",
        "outputId": "224b6dff-e76f-4136-d3bf-806722ce7957"
      },
      "source": [
        "#ハイパーパラメータを調整\n",
        "#このくらいの学習率が適当っぽい\n",
        "try_2(learning_rate=0.01)"
      ],
      "execution_count": null,
      "outputs": [
        {
          "output_type": "stream",
          "name": "stdout",
          "text": [
            "++++++++++++++++++++++++++++++++++++++++++\n",
            "learning_rate=0.01 iter=10000\n",
            "Generation: 100. 誤差 = 7464.8506\n",
            "Generation: 200. 誤差 = 6804.8486\n",
            "Generation: 300. 誤差 = 6190.9023\n",
            "Generation: 400. 誤差 = 5620.3057\n",
            "Generation: 500. 誤差 = 5090.5977\n",
            "Generation: 600. 誤差 = 4599.552\n",
            "Generation: 700. 誤差 = 4145.1387\n",
            "Generation: 800. 誤差 = 3725.4763\n",
            "Generation: 900. 誤差 = 3338.7793\n",
            "Generation: 1000. 誤差 = 2983.3323\n",
            "Generation: 1100. 誤差 = 2657.4736\n",
            "Generation: 1200. 誤差 = 2359.5962\n",
            "Generation: 1300. 誤差 = 2088.1328\n",
            "Generation: 1400. 誤差 = 1841.5626\n",
            "Generation: 1500. 誤差 = 1618.4027\n",
            "Generation: 1600. 誤差 = 1417.2076\n",
            "Generation: 1700. 誤差 = 1236.5698\n",
            "Generation: 1800. 誤差 = 1075.1118\n",
            "Generation: 1900. 誤差 = 931.4918\n",
            "Generation: 2000. 誤差 = 804.39966\n",
            "Generation: 2100. 誤差 = 692.5598\n",
            "Generation: 2200. 誤差 = 594.72845\n",
            "Generation: 2300. 誤差 = 509.69717\n",
            "Generation: 2400. 誤差 = 436.29846\n",
            "Generation: 2500. 誤差 = 373.40173\n",
            "Generation: 2600. 誤差 = 319.92148\n",
            "Generation: 2700. 誤差 = 274.82007\n",
            "Generation: 2800. 誤差 = 237.10988\n",
            "Generation: 2900. 誤差 = 205.86188\n",
            "Generation: 3000. 誤差 = 180.20445\n",
            "Generation: 3100. 誤差 = 159.33089\n",
            "Generation: 3200. 誤差 = 142.50084\n",
            "Generation: 3300. 誤差 = 129.044\n",
            "Generation: 3400. 誤差 = 118.36032\n",
            "Generation: 3500. 誤差 = 109.92019\n",
            "Generation: 3600. 誤差 = 103.26621\n",
            "Generation: 3700. 誤差 = 98.00581\n",
            "Generation: 3800. 誤差 = 93.81021\n",
            "Generation: 3900. 誤差 = 90.40956\n",
            "Generation: 4000. 誤差 = 87.586464\n",
            "Generation: 4100. 誤差 = 85.16956\n",
            "Generation: 4200. 誤差 = 83.02719\n",
            "Generation: 4300. 誤差 = 81.06085\n",
            "Generation: 4400. 誤差 = 79.198235\n",
            "Generation: 4500. 誤差 = 77.38839\n",
            "Generation: 4600. 誤差 = 75.59617\n",
            "Generation: 4700. 誤差 = 73.79848\n",
            "Generation: 4800. 誤差 = 71.980804\n",
            "Generation: 4900. 誤差 = 70.13467\n",
            "Generation: 5000. 誤差 = 68.25578\n",
            "Generation: 5100. 誤差 = 66.34231\n",
            "Generation: 5200. 誤差 = 64.394615\n",
            "Generation: 5300. 誤差 = 62.414097\n",
            "Generation: 5400. 誤差 = 60.402966\n",
            "Generation: 5500. 誤差 = 58.363983\n",
            "Generation: 5600. 誤差 = 56.30045\n",
            "Generation: 5700. 誤差 = 54.215942\n",
            "Generation: 5800. 誤差 = 52.114357\n",
            "Generation: 5900. 誤差 = 49.99988\n",
            "Generation: 6000. 誤差 = 47.87702\n",
            "Generation: 6100. 誤差 = 45.750404\n",
            "Generation: 6200. 誤差 = 43.624954\n",
            "Generation: 6300. 誤差 = 41.50572\n",
            "Generation: 6400. 誤差 = 39.397892\n",
            "Generation: 6500. 誤差 = 37.306767\n",
            "Generation: 6600. 誤差 = 35.237743\n",
            "Generation: 6700. 誤差 = 33.196175\n",
            "Generation: 6800. 誤差 = 31.187449\n",
            "Generation: 6900. 誤差 = 29.216873\n",
            "Generation: 7000. 誤差 = 27.289593\n",
            "Generation: 7100. 誤差 = 25.410582\n",
            "Generation: 7200. 誤差 = 23.584654\n",
            "Generation: 7300. 誤差 = 21.816309\n",
            "Generation: 7400. 誤差 = 20.109722\n",
            "Generation: 7500. 誤差 = 18.46877\n",
            "Generation: 7600. 誤差 = 16.896873\n",
            "Generation: 7700. 誤差 = 15.396826\n",
            "Generation: 7800. 誤差 = 13.971319\n",
            "Generation: 7900. 誤差 = 12.6223135\n",
            "Generation: 8000. 誤差 = 11.351362\n",
            "Generation: 8100. 誤差 = 10.1594095\n",
            "Generation: 8200. 誤差 = 9.04691\n",
            "Generation: 8300. 誤差 = 8.013733\n",
            "Generation: 8400. 誤差 = 7.0592556\n",
            "Generation: 8500. 誤差 = 6.1822987\n",
            "Generation: 8600. 誤差 = 5.3811846\n",
            "Generation: 8700. 誤差 = 4.6537867\n",
            "Generation: 8800. 誤差 = 3.9974952\n",
            "Generation: 8900. 誤差 = 3.409304\n",
            "Generation: 9000. 誤差 = 2.8858526\n",
            "Generation: 9100. 誤差 = 2.4234776\n",
            "Generation: 9200. 誤差 = 2.0182462\n",
            "Generation: 9300. 誤差 = 1.6660444\n",
            "Generation: 9400. 誤差 = 1.3625989\n",
            "Generation: 9500. 誤差 = 1.103581\n",
            "Generation: 9600. 誤差 = 0.8846504\n",
            "Generation: 9700. 誤差 = 0.70151883\n",
            "Generation: 9800. 誤差 = 0.55000883\n",
            "Generation: 9900. 誤差 = 0.42612064\n",
            "Generation: 10000. 誤差 = 0.3260602\n",
            "[[ 2.9566179e+01]\n",
            " [-2.6316902e-02]\n",
            " [ 1.7104831e+00]\n",
            " [ 2.0346124e-01]]\n"
          ]
        },
        {
          "output_type": "display_data",
          "data": {
            "image/png": "[encoded data removed]",
            "text/plain": [
              "<Figure size 432x288 with 1 Axes>"
            ]
          },
          "metadata": {
            "needs_background": "light"
          }
        }
      ]
    },
    {
      "cell_type": "code",
      "metadata": {
        "colab": {
          "base_uri": "https://localhost:8080/",
          "height": 1000
        },
        "id": "iupiuqx80vtJ",
        "outputId": "02e6f7a9-1de9-4193-87e2-ce941630ed28"
      },
      "source": [
        "#ハイパーパラメータを調整\n",
        "#イテレーションを増やせばより収束へ向かう\n",
        "try_2(iters_num=50000)"
      ],
      "execution_count": null,
      "outputs": [
        {
          "output_type": "stream",
          "name": "stdout",
          "text": [
            "++++++++++++++++++++++++++++++++++++++++++\n",
            "learning_rate=0.001 iter=50000\n",
            "Generation: 100. 誤差 = 9127.006\n",
            "Generation: 200. 誤差 = 9041.242\n",
            "Generation: 300. 誤差 = 8956.282\n",
            "Generation: 400. 誤差 = 8872.107\n",
            "Generation: 500. 誤差 = 8788.704\n",
            "Generation: 600. 誤差 = 8706.055\n",
            "Generation: 700. 誤差 = 8624.145\n",
            "Generation: 800. 誤差 = 8542.959\n",
            "Generation: 900. 誤差 = 8462.48\n",
            "Generation: 1000. 誤差 = 8382.699\n",
            "Generation: 1100. 誤差 = 8303.598\n",
            "Generation: 1200. 誤差 = 8225.166\n",
            "Generation: 1300. 誤差 = 8147.389\n",
            "Generation: 1400. 誤差 = 8070.256\n",
            "Generation: 1500. 誤差 = 7993.7524\n",
            "Generation: 1600. 誤差 = 7917.8687\n",
            "Generation: 1700. 誤差 = 7842.5923\n",
            "Generation: 1800. 誤差 = 7767.9136\n",
            "Generation: 1900. 誤差 = 7693.82\n",
            "Generation: 2000. 誤差 = 7620.303\n",
            "Generation: 2100. 誤差 = 7547.3506\n",
            "Generation: 2200. 誤差 = 7474.9526\n",
            "Generation: 2300. 誤差 = 7403.102\n",
            "Generation: 2400. 誤差 = 7331.786\n",
            "Generation: 2500. 誤差 = 7260.998\n",
            "Generation: 2600. 誤差 = 7190.726\n",
            "Generation: 2700. 誤差 = 7120.965\n",
            "Generation: 2800. 誤差 = 7051.7026\n",
            "Generation: 2900. 誤差 = 6982.9316\n",
            "Generation: 3000. 誤差 = 6914.6436\n",
            "Generation: 3100. 誤差 = 6846.831\n",
            "Generation: 3200. 誤差 = 6779.483\n",
            "Generation: 3300. 誤差 = 6712.5933\n",
            "Generation: 3400. 誤差 = 6646.154\n",
            "Generation: 3500. 誤差 = 6580.156\n",
            "Generation: 3600. 誤差 = 6514.592\n",
            "Generation: 3700. 誤差 = 6449.4556\n",
            "Generation: 3800. 誤差 = 6384.7373\n",
            "Generation: 3900. 誤差 = 6320.431\n",
            "Generation: 4000. 誤差 = 6256.53\n",
            "Generation: 4100. 誤差 = 6193.0244\n",
            "Generation: 4200. 誤差 = 6129.912\n",
            "Generation: 4300. 誤差 = 6067.1846\n",
            "Generation: 4400. 誤差 = 6004.833\n",
            "Generation: 4500. 誤差 = 5942.8535\n",
            "Generation: 4600. 誤差 = 5881.244\n",
            "Generation: 4700. 誤差 = 5819.9995\n",
            "Generation: 4800. 誤差 = 5759.114\n",
            "Generation: 4900. 誤差 = 5698.5786\n",
            "Generation: 5000. 誤差 = 5638.402\n",
            "Generation: 5100. 誤差 = 5578.5713\n",
            "Generation: 5200. 誤差 = 5519.085\n",
            "Generation: 5300. 誤差 = 5459.95\n",
            "Generation: 5400. 誤差 = 5401.1533\n",
            "Generation: 5500. 誤差 = 5342.7017\n",
            "Generation: 5600. 誤差 = 5284.592\n",
            "Generation: 5700. 誤差 = 5226.8184\n",
            "Generation: 5800. 誤差 = 5169.3936\n",
            "Generation: 5900. 誤差 = 5112.302\n",
            "Generation: 6000. 誤差 = 5055.555\n",
            "Generation: 6100. 誤差 = 4999.147\n",
            "Generation: 6200. 誤差 = 4943.074\n",
            "Generation: 6300. 誤差 = 4887.35\n",
            "Generation: 6400. 誤差 = 4831.959\n",
            "Generation: 6500. 誤差 = 4776.91\n",
            "Generation: 6600. 誤差 = 4722.2026\n",
            "Generation: 6700. 誤差 = 4667.8296\n",
            "Generation: 6800. 誤差 = 4613.802\n",
            "Generation: 6900. 誤差 = 4560.1113\n",
            "Generation: 7000. 誤差 = 4506.759\n",
            "Generation: 7100. 誤差 = 4453.749\n",
            "Generation: 7200. 誤差 = 4401.074\n",
            "Generation: 7300. 誤差 = 4348.7393\n",
            "Generation: 7400. 誤差 = 4296.7466\n",
            "Generation: 7500. 誤差 = 4245.0884\n",
            "Generation: 7600. 誤差 = 4193.767\n",
            "Generation: 7700. 誤差 = 4142.7905\n",
            "Generation: 7800. 誤差 = 4092.1482\n",
            "Generation: 7900. 誤差 = 4041.8416\n",
            "Generation: 8000. 誤差 = 3991.875\n",
            "Generation: 8100. 誤差 = 3942.2463\n",
            "Generation: 8200. 誤差 = 3892.9543\n",
            "Generation: 8300. 誤差 = 3843.9968\n",
            "Generation: 8400. 誤差 = 3795.3796\n",
            "Generation: 8500. 誤差 = 3747.0928\n",
            "Generation: 8600. 誤差 = 3699.1548\n",
            "Generation: 8700. 誤差 = 3651.5425\n",
            "Generation: 8800. 誤差 = 3604.2705\n",
            "Generation: 8900. 誤差 = 3557.337\n",
            "Generation: 9000. 誤差 = 3510.7275\n",
            "Generation: 9100. 誤差 = 3464.47\n",
            "Generation: 9200. 誤差 = 3418.5354\n",
            "Generation: 9300. 誤差 = 3372.9434\n",
            "Generation: 9400. 誤差 = 3327.685\n",
            "Generation: 9500. 誤差 = 3282.7556\n",
            "Generation: 9600. 誤差 = 3238.1719\n",
            "Generation: 9700. 誤差 = 3193.907\n",
            "Generation: 9800. 誤差 = 3149.9956\n",
            "Generation: 9900. 誤差 = 3106.4014\n",
            "Generation: 10000. 誤差 = 3063.1562\n",
            "Generation: 10100. 誤差 = 3020.233\n",
            "Generation: 10200. 誤差 = 2977.6516\n",
            "Generation: 10300. 誤差 = 2935.3977\n",
            "Generation: 10400. 誤差 = 2893.4807\n",
            "Generation: 10500. 誤差 = 2851.8953\n",
            "Generation: 10600. 誤差 = 2810.6416\n",
            "Generation: 10700. 誤差 = 2769.7234\n",
            "Generation: 10800. 誤差 = 2729.1357\n",
            "Generation: 10900. 誤差 = 2688.8806\n",
            "Generation: 11000. 誤差 = 2648.9595\n",
            "Generation: 11100. 誤差 = 2609.3647\n",
            "Generation: 11200. 誤差 = 2570.1091\n",
            "Generation: 11300. 誤差 = 2531.1765\n",
            "Generation: 11400. 誤差 = 2492.583\n",
            "Generation: 11500. 誤差 = 2454.3115\n",
            "Generation: 11600. 誤差 = 2416.3816\n",
            "Generation: 11700. 誤差 = 2378.7727\n",
            "Generation: 11800. 誤差 = 2341.5005\n",
            "Generation: 11900. 誤差 = 2304.5552\n",
            "Generation: 12000. 誤差 = 2267.936\n",
            "Generation: 12100. 誤差 = 2231.6548\n",
            "Generation: 12200. 誤差 = 2195.6943\n",
            "Generation: 12300. 誤差 = 2160.0674\n",
            "Generation: 12400. 誤差 = 2124.7688\n",
            "Generation: 12500. 誤差 = 2089.7932\n",
            "Generation: 12600. 誤差 = 2055.1545\n",
            "Generation: 12700. 誤差 = 2020.8383\n",
            "Generation: 12800. 誤差 = 1986.846\n",
            "Generation: 12900. 誤差 = 1953.19\n",
            "Generation: 13000. 誤差 = 1919.856\n",
            "Generation: 13100. 誤差 = 1886.845\n",
            "Generation: 13200. 誤差 = 1854.1667\n",
            "Generation: 13300. 誤差 = 1821.812\n",
            "Generation: 13400. 誤差 = 1789.7805\n",
            "Generation: 13500. 誤差 = 1758.0753\n",
            "Generation: 13600. 誤差 = 1726.6986\n",
            "Generation: 13700. 誤差 = 1695.6447\n",
            "Generation: 13800. 誤差 = 1664.9131\n",
            "Generation: 13900. 誤差 = 1634.505\n",
            "Generation: 14000. 誤差 = 1604.4247\n",
            "Generation: 14100. 誤差 = 1574.6663\n",
            "Generation: 14200. 誤差 = 1545.23\n",
            "Generation: 14300. 誤差 = 1516.1155\n",
            "Generation: 14400. 誤差 = 1487.3224\n",
            "Generation: 14500. 誤差 = 1458.8516\n",
            "Generation: 14600. 誤差 = 1430.7041\n",
            "Generation: 14700. 誤差 = 1402.8772\n",
            "Generation: 14800. 誤差 = 1375.3715\n",
            "Generation: 14900. 誤差 = 1348.185\n",
            "Generation: 15000. 誤差 = 1321.3182\n",
            "Generation: 15100. 誤差 = 1294.7706\n",
            "Generation: 15200. 誤差 = 1268.5415\n",
            "Generation: 15300. 誤差 = 1242.6318\n",
            "Generation: 15400. 誤差 = 1217.04\n",
            "Generation: 15500. 誤差 = 1191.7653\n",
            "Generation: 15600. 誤差 = 1166.8076\n",
            "Generation: 15700. 誤差 = 1142.167\n",
            "Generation: 15800. 誤差 = 1117.8419\n",
            "Generation: 15900. 誤差 = 1093.8324\n",
            "Generation: 16000. 誤差 = 1070.1377\n",
            "Generation: 16100. 誤差 = 1046.7579\n",
            "Generation: 16200. 誤差 = 1023.6939\n",
            "Generation: 16300. 誤差 = 1000.94257\n",
            "Generation: 16400. 誤差 = 978.50366\n",
            "Generation: 16500. 誤差 = 956.3767\n",
            "Generation: 16600. 誤差 = 934.56177\n",
            "Generation: 16700. 誤差 = 913.0595\n",
            "Generation: 16800. 誤差 = 891.8668\n",
            "Generation: 16900. 誤差 = 870.9833\n",
            "Generation: 17000. 誤差 = 850.4111\n",
            "Generation: 17100. 誤差 = 830.1462\n",
            "Generation: 17200. 誤差 = 810.1918\n",
            "Generation: 17300. 誤差 = 790.5387\n",
            "Generation: 17400. 誤差 = 771.19806\n",
            "Generation: 17500. 誤差 = 752.164\n",
            "Generation: 17600. 誤差 = 733.43304\n",
            "Generation: 17700. 誤差 = 715.00476\n",
            "Generation: 17800. 誤差 = 696.8814\n",
            "Generation: 17900. 誤差 = 679.0643\n",
            "Generation: 18000. 誤差 = 661.54803\n",
            "Generation: 18100. 誤差 = 644.3318\n",
            "Generation: 18200. 誤差 = 627.41547\n",
            "Generation: 18300. 誤差 = 610.7997\n",
            "Generation: 18400. 誤差 = 594.48206\n",
            "Generation: 18500. 誤差 = 578.46185\n",
            "Generation: 18600. 誤差 = 562.7396\n",
            "Generation: 18700. 誤差 = 547.31335\n",
            "Generation: 18800. 誤差 = 532.1824\n",
            "Generation: 18900. 誤差 = 517.346\n",
            "Generation: 19000. 誤差 = 502.8023\n",
            "Generation: 19100. 誤差 = 488.55115\n",
            "Generation: 19200. 誤差 = 474.59067\n",
            "Generation: 19300. 誤差 = 460.91925\n",
            "Generation: 19400. 誤差 = 447.53653\n",
            "Generation: 19500. 誤差 = 434.44043\n",
            "Generation: 19600. 誤差 = 421.62933\n",
            "Generation: 19700. 誤差 = 409.10574\n",
            "Generation: 19800. 誤差 = 396.86533\n",
            "Generation: 19900. 誤差 = 384.90555\n",
            "Generation: 20000. 誤差 = 373.22723\n",
            "Generation: 20100. 誤差 = 361.82953\n",
            "Generation: 20200. 誤差 = 350.70706\n",
            "Generation: 20300. 誤差 = 339.86438\n",
            "Generation: 20400. 誤差 = 329.2937\n",
            "Generation: 20500. 誤差 = 318.99857\n",
            "Generation: 20600. 誤差 = 308.9723\n",
            "Generation: 20700. 誤差 = 299.2186\n",
            "Generation: 20800. 誤差 = 289.73157\n",
            "Generation: 20900. 誤差 = 280.50974\n",
            "Generation: 21000. 誤差 = 271.55402\n",
            "Generation: 21100. 誤差 = 262.8603\n",
            "Generation: 21200. 誤差 = 254.4262\n",
            "Generation: 21300. 誤差 = 246.25034\n",
            "Generation: 21400. 誤差 = 238.33026\n",
            "Generation: 21500. 誤差 = 230.66393\n",
            "Generation: 21600. 誤差 = 223.24902\n",
            "Generation: 21700. 誤差 = 216.08278\n",
            "Generation: 21800. 誤差 = 209.1626\n",
            "Generation: 21900. 誤差 = 202.48602\n",
            "Generation: 22000. 誤差 = 196.05112\n",
            "Generation: 22100. 誤差 = 189.85336\n",
            "Generation: 22200. 誤差 = 183.8912\n",
            "Generation: 22300. 誤差 = 178.16039\n",
            "Generation: 22400. 誤差 = 172.65895\n",
            "Generation: 22500. 誤差 = 167.38245\n",
            "Generation: 22600. 誤差 = 162.32765\n",
            "Generation: 22700. 誤差 = 157.49136\n",
            "Generation: 22800. 誤差 = 152.86969\n",
            "Generation: 22900. 誤差 = 148.45837\n",
            "Generation: 23000. 誤差 = 144.25348\n",
            "Generation: 23100. 誤差 = 140.25099\n",
            "Generation: 23200. 誤差 = 136.44589\n",
            "Generation: 23300. 誤差 = 132.8334\n",
            "Generation: 23400. 誤差 = 129.40947\n",
            "Generation: 23500. 誤差 = 126.168045\n",
            "Generation: 23600. 誤差 = 123.10469\n",
            "Generation: 23700. 誤差 = 120.21318\n",
            "Generation: 23800. 誤差 = 117.4879\n",
            "Generation: 23900. 誤差 = 114.92285\n",
            "Generation: 24000. 誤差 = 112.51179\n",
            "Generation: 24100. 誤差 = 110.24808\n",
            "Generation: 24200. 誤差 = 108.12465\n",
            "Generation: 24300. 誤差 = 106.134674\n",
            "Generation: 24400. 誤差 = 104.270584\n",
            "Generation: 24500. 誤差 = 102.52473\n",
            "Generation: 24600. 誤差 = 100.889206\n",
            "Generation: 24700. 誤差 = 99.35585\n",
            "Generation: 24800. 誤差 = 97.91633\n",
            "Generation: 24900. 誤差 = 96.56206\n",
            "Generation: 25000. 誤差 = 95.28447\n",
            "Generation: 25100. 誤差 = 94.075165\n",
            "Generation: 25200. 誤差 = 92.925354\n",
            "Generation: 25300. 誤差 = 91.82673\n",
            "Generation: 25400. 誤差 = 90.771126\n",
            "Generation: 25500. 誤差 = 89.75064\n",
            "Generation: 25600. 誤差 = 88.75859\n",
            "Generation: 25700. 誤差 = 87.78795\n",
            "Generation: 25800. 誤差 = 86.833015\n",
            "Generation: 25900. 誤差 = 85.889046\n",
            "Generation: 26000. 誤差 = 84.95166\n",
            "Generation: 26100. 誤差 = 84.017784\n",
            "Generation: 26200. 誤差 = 83.08472\n",
            "Generation: 26300. 誤差 = 82.15039\n",
            "Generation: 26400. 誤差 = 81.21445\n",
            "Generation: 26500. 誤差 = 80.276955\n",
            "Generation: 26600. 誤差 = 79.338264\n",
            "Generation: 26700. 誤差 = 78.39708\n",
            "Generation: 26800. 誤差 = 77.455734\n",
            "Generation: 26900. 誤差 = 76.51357\n",
            "Generation: 27000. 誤差 = 75.57277\n",
            "Generation: 27100. 誤差 = 74.6334\n",
            "Generation: 27200. 誤差 = 73.697586\n",
            "Generation: 27300. 誤差 = 72.764755\n",
            "Generation: 27400. 誤差 = 71.83652\n",
            "Generation: 27500. 誤差 = 70.91456\n",
            "Generation: 27600. 誤差 = 69.99966\n",
            "Generation: 27700. 誤差 = 69.09137\n",
            "Generation: 27800. 誤差 = 68.191444\n",
            "Generation: 27900. 誤差 = 67.299904\n",
            "Generation: 28000. 誤差 = 66.417435\n",
            "Generation: 28100. 誤差 = 65.54438\n",
            "Generation: 28200. 誤差 = 64.681564\n",
            "Generation: 28300. 誤差 = 63.82908\n",
            "Generation: 28400. 誤差 = 62.986855\n",
            "Generation: 28500. 誤差 = 62.15478\n",
            "Generation: 28600. 誤差 = 61.333553\n",
            "Generation: 28700. 誤差 = 60.52291\n",
            "Generation: 28800. 誤差 = 59.72299\n",
            "Generation: 28900. 誤差 = 58.933582\n",
            "Generation: 29000. 誤差 = 58.154957\n",
            "Generation: 29100. 誤差 = 57.386585\n",
            "Generation: 29200. 誤差 = 56.628662\n",
            "Generation: 29300. 誤差 = 55.88082\n",
            "Generation: 29400. 誤差 = 55.142868\n",
            "Generation: 29500. 誤差 = 54.414772\n",
            "Generation: 29600. 誤差 = 53.696236\n",
            "Generation: 29700. 誤差 = 52.98701\n",
            "Generation: 29800. 誤差 = 52.286896\n",
            "Generation: 29900. 誤差 = 51.595688\n",
            "Generation: 30000. 誤差 = 50.91313\n",
            "Generation: 30100. 誤差 = 50.239067\n",
            "Generation: 30200. 誤差 = 49.573185\n",
            "Generation: 30300. 誤差 = 48.91535\n",
            "Generation: 30400. 誤差 = 48.26531\n",
            "Generation: 30500. 誤差 = 47.622906\n",
            "Generation: 30600. 誤差 = 46.987877\n",
            "Generation: 30700. 誤差 = 46.360058\n",
            "Generation: 30800. 誤差 = 45.739323\n",
            "Generation: 30900. 誤差 = 45.125416\n",
            "Generation: 31000. 誤差 = 44.518208\n",
            "Generation: 31100. 誤差 = 43.917564\n",
            "Generation: 31200. 誤差 = 43.323254\n",
            "Generation: 31300. 誤差 = 42.73521\n",
            "Generation: 31400. 誤差 = 42.153263\n",
            "Generation: 31500. 誤差 = 41.57727\n",
            "Generation: 31600. 誤差 = 41.007137\n",
            "Generation: 31700. 誤差 = 40.442726\n",
            "Generation: 31800. 誤差 = 39.883923\n",
            "Generation: 31900. 誤差 = 39.330616\n",
            "Generation: 32000. 誤差 = 38.78272\n",
            "Generation: 32100. 誤差 = 38.240124\n",
            "Generation: 32200. 誤差 = 37.702724\n",
            "Generation: 32300. 誤差 = 37.1705\n",
            "Generation: 32400. 誤差 = 36.643295\n",
            "Generation: 32500. 誤差 = 36.121075\n",
            "Generation: 32600. 誤差 = 35.603775\n",
            "Generation: 32700. 誤差 = 35.091297\n",
            "Generation: 32800. 誤差 = 34.583584\n",
            "Generation: 32900. 誤差 = 34.08057\n",
            "Generation: 33000. 誤差 = 33.582214\n",
            "Generation: 33100. 誤差 = 33.08845\n",
            "Generation: 33200. 誤差 = 32.59926\n",
            "Generation: 33300. 誤差 = 32.114525\n",
            "Generation: 33400. 誤差 = 31.63424\n",
            "Generation: 33500. 誤差 = 31.158398\n",
            "Generation: 33600. 誤差 = 30.686872\n",
            "Generation: 33700. 誤差 = 30.21972\n",
            "Generation: 33800. 誤差 = 29.756811\n",
            "Generation: 33900. 誤差 = 29.298174\n",
            "Generation: 34000. 誤差 = 28.843765\n",
            "Generation: 34100. 誤差 = 28.393503\n",
            "Generation: 34200. 誤差 = 27.947424\n",
            "Generation: 34300. 誤差 = 27.505468\n",
            "Generation: 34400. 誤差 = 27.067612\n",
            "Generation: 34500. 誤差 = 26.633791\n",
            "Generation: 34600. 誤差 = 26.204039\n",
            "Generation: 34700. 誤差 = 25.778358\n",
            "Generation: 34800. 誤差 = 25.356638\n",
            "Generation: 34900. 誤差 = 24.93891\n",
            "Generation: 35000. 誤差 = 24.525137\n",
            "Generation: 35100. 誤差 = 24.115284\n",
            "Generation: 35200. 誤差 = 23.709343\n",
            "Generation: 35300. 誤差 = 23.307356\n",
            "Generation: 35400. 誤差 = 22.909248\n",
            "Generation: 35500. 誤差 = 22.515\n",
            "Generation: 35600. 誤差 = 22.12461\n",
            "Generation: 35700. 誤差 = 21.738071\n",
            "Generation: 35800. 誤差 = 21.35534\n",
            "Generation: 35900. 誤差 = 20.976423\n",
            "Generation: 36000. 誤差 = 20.601301\n",
            "Generation: 36100. 誤差 = 20.229979\n",
            "Generation: 36200. 誤差 = 19.86241\n",
            "Generation: 36300. 誤差 = 19.498608\n",
            "Generation: 36400. 誤差 = 19.13856\n",
            "Generation: 36500. 誤差 = 18.78225\n",
            "Generation: 36600. 誤差 = 18.429665\n",
            "Generation: 36700. 誤差 = 18.080786\n",
            "Generation: 36800. 誤差 = 17.735622\n",
            "Generation: 36900. 誤差 = 17.394157\n",
            "Generation: 37000. 誤差 = 17.056374\n",
            "Generation: 37100. 誤差 = 16.722263\n",
            "Generation: 37200. 誤差 = 16.391817\n",
            "Generation: 37300. 誤差 = 16.065033\n",
            "Generation: 37400. 誤差 = 15.741918\n",
            "Generation: 37500. 誤差 = 15.422436\n",
            "Generation: 37600. 誤差 = 15.106589\n",
            "Generation: 37700. 誤差 = 14.794365\n",
            "Generation: 37800. 誤差 = 14.485756\n",
            "Generation: 37900. 誤差 = 14.180746\n",
            "Generation: 38000. 誤差 = 13.8793335\n",
            "Generation: 38100. 誤差 = 13.581503\n",
            "Generation: 38200. 誤差 = 13.287257\n",
            "Generation: 38300. 誤差 = 12.996599\n",
            "Generation: 38400. 誤差 = 12.709519\n",
            "Generation: 38500. 誤差 = 12.425992\n",
            "Generation: 38600. 誤差 = 12.14601\n",
            "Generation: 38700. 誤差 = 11.869562\n",
            "Generation: 38800. 誤差 = 11.596648\n",
            "Generation: 38900. 誤差 = 11.32729\n",
            "Generation: 39000. 誤差 = 11.061433\n",
            "Generation: 39100. 誤差 = 10.799094\n",
            "Generation: 39200. 誤差 = 10.540266\n",
            "Generation: 39300. 誤差 = 10.284934\n",
            "Generation: 39400. 誤差 = 10.0330925\n",
            "Generation: 39500. 誤差 = 9.784737\n",
            "Generation: 39600. 誤差 = 9.539855\n",
            "Generation: 39700. 誤差 = 9.298443\n",
            "Generation: 39800. 誤差 = 9.060483\n",
            "Generation: 39900. 誤差 = 8.825981\n",
            "Generation: 40000. 誤差 = 8.594921\n",
            "Generation: 40100. 誤差 = 8.367297\n",
            "Generation: 40200. 誤差 = 8.1431\n",
            "Generation: 40300. 誤差 = 7.9223204\n",
            "Generation: 40400. 誤差 = 7.7049522\n",
            "Generation: 40500. 誤差 = 7.4909844\n",
            "Generation: 40600. 誤差 = 7.280417\n",
            "Generation: 40700. 誤差 = 7.0732274\n",
            "Generation: 40800. 誤差 = 6.8694158\n",
            "Generation: 40900. 誤差 = 6.6689696\n",
            "Generation: 41000. 誤差 = 6.4718823\n",
            "Generation: 41100. 誤差 = 6.2781386\n",
            "Generation: 41200. 誤差 = 6.0877357\n",
            "Generation: 41300. 誤差 = 5.900659\n",
            "Generation: 41400. 誤差 = 5.716903\n",
            "Generation: 41500. 誤差 = 5.5364537\n",
            "Generation: 41600. 誤差 = 5.3593035\n",
            "Generation: 41700. 誤差 = 5.1854415\n",
            "Generation: 41800. 誤差 = 5.014853\n",
            "Generation: 41900. 誤差 = 4.8475285\n",
            "Generation: 42000. 誤差 = 4.6834645\n",
            "Generation: 42100. 誤差 = 4.5226393\n",
            "Generation: 42200. 誤差 = 4.365038\n",
            "Generation: 42300. 誤差 = 4.2106633\n",
            "Generation: 42400. 誤差 = 4.0594935\n",
            "Generation: 42500. 誤差 = 3.9115143\n",
            "Generation: 42600. 誤差 = 3.7667139\n",
            "Generation: 42700. 誤差 = 3.625082\n",
            "Generation: 42800. 誤差 = 3.4866035\n",
            "Generation: 42900. 誤差 = 3.3512595\n",
            "Generation: 43000. 誤差 = 3.2190418\n",
            "Generation: 43100. 誤差 = 3.0899324\n",
            "Generation: 43200. 誤差 = 2.9639137\n",
            "Generation: 43300. 誤差 = 2.8409717\n",
            "Generation: 43400. 誤差 = 2.7210934\n",
            "Generation: 43500. 誤差 = 2.6042576\n",
            "Generation: 43600. 誤差 = 2.4904478\n",
            "Generation: 43700. 誤差 = 2.3796453\n",
            "Generation: 43800. 誤差 = 2.2718358\n",
            "Generation: 43900. 誤差 = 2.1669967\n",
            "Generation: 44000. 誤差 = 2.0651083\n",
            "Generation: 44100. 誤差 = 1.9661523\n",
            "Generation: 44200. 誤差 = 1.8701043\n",
            "Generation: 44300. 誤差 = 1.776948\n",
            "Generation: 44400. 誤差 = 1.6866552\n",
            "Generation: 44500. 誤差 = 1.5992081\n",
            "Generation: 44600. 誤差 = 1.5145782\n",
            "Generation: 44700. 誤差 = 1.4327435\n",
            "Generation: 44800. 誤差 = 1.3536779\n",
            "Generation: 44900. 誤差 = 1.2773552\n",
            "Generation: 45000. 誤差 = 1.2037494\n",
            "Generation: 45100. 誤差 = 1.13283\n",
            "Generation: 45200. 誤差 = 1.0645683\n",
            "Generation: 45300. 誤差 = 0.9989338\n",
            "Generation: 45400. 誤差 = 0.9358947\n",
            "Generation: 45500. 誤差 = 0.87542063\n",
            "Generation: 45600. 誤差 = 0.81747544\n",
            "Generation: 45700. 誤差 = 0.7620237\n",
            "Generation: 45800. 誤差 = 0.7090324\n",
            "Generation: 45900. 誤差 = 0.65846205\n",
            "Generation: 46000. 誤差 = 0.6102728\n",
            "Generation: 46100. 誤差 = 0.5644244\n",
            "Generation: 46200. 誤差 = 0.5208752\n",
            "Generation: 46300. 誤差 = 0.4795824\n",
            "Generation: 46400. 誤差 = 0.44049996\n",
            "Generation: 46500. 誤差 = 0.40358245\n",
            "Generation: 46600. 誤差 = 0.3687799\n",
            "Generation: 46700. 誤差 = 0.33604282\n",
            "Generation: 46800. 誤差 = 0.30531943\n",
            "Generation: 46900. 誤差 = 0.27655566\n",
            "Generation: 47000. 誤差 = 0.24969715\n",
            "Generation: 47100. 誤差 = 0.22468445\n",
            "Generation: 47200. 誤差 = 0.20145987\n",
            "Generation: 47300. 誤差 = 0.17996183\n",
            "Generation: 47400. 誤差 = 0.16012764\n",
            "Generation: 47500. 誤差 = 0.14189321\n",
            "Generation: 47600. 誤差 = 0.12519091\n",
            "Generation: 47700. 誤差 = 0.10995408\n",
            "Generation: 47800. 誤差 = 0.09611266\n",
            "Generation: 47900. 誤差 = 0.083596125\n",
            "Generation: 48000. 誤差 = 0.0723322\n",
            "Generation: 48100. 誤差 = 0.06224798\n",
            "Generation: 48200. 誤差 = 0.053270016\n",
            "Generation: 48300. 誤差 = 0.04532423\n",
            "Generation: 48400. 誤差 = 0.03833601\n",
            "Generation: 48500. 誤差 = 0.032231856\n",
            "Generation: 48600. 誤差 = 0.026938312\n",
            "Generation: 48700. 誤差 = 0.022383131\n",
            "Generation: 48800. 誤差 = 0.018495593\n",
            "Generation: 48900. 誤差 = 0.015207358\n",
            "Generation: 49000. 誤差 = 0.012451911\n",
            "Generation: 49100. 誤差 = 0.010166061\n",
            "Generation: 49200. 誤差 = 0.008290329\n",
            "Generation: 49300. 誤差 = 0.006768542\n",
            "Generation: 49400. 誤差 = 0.0055489945\n",
            "Generation: 49500. 誤差 = 0.0045842943\n",
            "Generation: 49600. 誤差 = 0.0038316296\n",
            "Generation: 49700. 誤差 = 0.0032530213\n",
            "Generation: 49800. 誤差 = 0.002814939\n",
            "Generation: 49900. 誤差 = 0.0024888418\n",
            "Generation: 50000. 誤差 = 0.002250211\n",
            "[[2.9983006e+01]\n",
            " [5.4032314e-03]\n",
            " [5.4638350e-01]\n",
            " [2.0198186e-01]]\n"
          ]
        },
        {
          "output_type": "display_data",
          "data": {
            "image/png": "[encoded data removed]",
            "text/plain": [
              "<Figure size 432x288 with 1 Axes>"
            ]
          },
          "metadata": {
            "needs_background": "light"
          }
        }
      ]
    },
    {
      "cell_type": "markdown",
      "metadata": {
        "id": "Xab7WJGCmsno"
      },
      "source": [
        "## 分類1層 (mnist)\n",
        "---------------------------------------------------------------------------------------------------------------------------------------------------------------------------------------------\n",
        "## [try]\n",
        "-  x：入力値, d：教師データ, W：重み, b：バイアス をそれぞれ定義しよう\n",
        "---------------------------------------------------------------------------------------------------------------------------------------------------------------------------------------------"
      ]
    },
    {
      "cell_type": "code",
      "metadata": {
        "id": "eluDjGWqmsnp",
        "colab": {
          "base_uri": "https://localhost:8080/",
          "height": 1000
        },
        "outputId": "a47697d6-4825-46d7-ef2a-d65db27230a3"
      },
      "source": [
        "import tensorflow as tf\n",
        "import matplotlib.pyplot as plt\n",
        "\n",
        "# logging levelを変更\n",
        "tf.logging.set_verbosity(tf.logging.ERROR)\n",
        "\n",
        "from tensorflow.examples.tutorials.mnist import input_data\n",
        "mnist = input_data.read_data_sets(\"MNIST_data/\", one_hot=True)\n",
        "\n",
        "iters_num = 100\n",
        "batch_size = 100\n",
        "plot_interval = 1\n",
        "\n",
        "# -------------- ここを補填 ------------------------\n",
        "#分類3層のコードを参考にした\n",
        "#なお、Tenorflowのplaceholderは後からsessionに渡す際に入力を確定できる\n",
        "#ここではTrainDataとTestDataを後から代入する事で入力を確定させている(適応的にData数も確定)\n",
        "#現時点ではとりあえずNoneを充てて次元数だけ決めている\n",
        "#----------------------------------------------------------------------\n",
        "x = tf.placeholder(tf.float32, [None, 784])  #入力画素数\n",
        "d = tf.placeholder(tf.float32, [None, 10])   #Class数\n",
        "W = tf.Variable(tf.random_normal([784, 10], stddev=0.01))\n",
        "b = tf.Variable(tf.zeros([10]))\n",
        "# ------------------------------------------------------\n",
        "\n",
        "y = tf.nn.softmax(tf.matmul(x, W) + b)\n",
        "\n",
        "# 交差エントロピー\n",
        "cross_entropy = -tf.reduce_sum(d * tf.log(y), reduction_indices=[1])\n",
        "loss = tf.reduce_mean(cross_entropy)\n",
        "train = tf.train.GradientDescentOptimizer(0.1).minimize(loss)\n",
        "\n",
        "# 正誤を保存\n",
        "correct = tf.equal(tf.argmax(y, 1), tf.argmax(d, 1))\n",
        "# 正解率\n",
        "accuracy = tf.reduce_mean(tf.cast(correct, tf.float32))\n",
        "\n",
        "init = tf.global_variables_initializer()\n",
        "sess = tf.Session()\n",
        "sess.run(init)\n",
        "\n",
        "accuracies = []\n",
        "for i in range(iters_num):\n",
        "    x_batch, d_batch = mnist.train.next_batch(batch_size)\n",
        "    sess.run(train, feed_dict={x: x_batch, d: d_batch})\n",
        "    if (i+1) % plot_interval == 0:\n",
        "        print(sess.run(correct, feed_dict={x: mnist.test.images, d: mnist.test.labels}))\n",
        "        accuracy_val = sess.run(accuracy, feed_dict={x: mnist.test.images, d: mnist.test.labels})\n",
        "        accuracies.append(accuracy_val)\n",
        "        print('Generation: ' + str(i+1) + '. 正解率 = ' + str(accuracy_val))\n",
        "        \n",
        "        \n",
        "lists = range(0, iters_num, plot_interval)\n",
        "plt.plot(lists, accuracies)\n",
        "plt.title(\"accuracy\")\n",
        "plt.ylim(0, 1.0)\n",
        "plt.show()        "
      ],
      "execution_count": null,
      "outputs": [
        {
          "output_type": "stream",
          "name": "stdout",
          "text": [
            "Extracting MNIST_data/train-images-idx3-ubyte.gz\n",
            "Extracting MNIST_data/train-labels-idx1-ubyte.gz\n",
            "Extracting MNIST_data/t10k-images-idx3-ubyte.gz\n",
            "Extracting MNIST_data/t10k-labels-idx1-ubyte.gz\n",
            "[ True False  True ... False False False]\n",
            "Generation: 1. 正解率 = 0.358\n",
            "[ True  True  True ... False False False]\n",
            "Generation: 2. 正解率 = 0.4041\n",
            "[ True False  True ... False False  True]\n",
            "Generation: 3. 正解率 = 0.5601\n",
            "[ True  True  True ... False False  True]\n",
            "Generation: 4. 正解率 = 0.6282\n",
            "[ True  True  True ... False False  True]\n",
            "Generation: 5. 正解率 = 0.6143\n",
            "[ True  True  True ... False False  True]\n",
            "Generation: 6. 正解率 = 0.6448\n",
            "[ True  True  True ... False False  True]\n",
            "Generation: 7. 正解率 = 0.7252\n",
            "[ True False  True ... False False  True]\n",
            "Generation: 8. 正解率 = 0.7022\n",
            "[ True False  True ... False False  True]\n",
            "Generation: 9. 正解率 = 0.7233\n",
            "[ True  True  True ...  True False  True]\n",
            "Generation: 10. 正解率 = 0.7665\n",
            "[ True  True  True ... False False  True]\n",
            "Generation: 11. 正解率 = 0.7648\n",
            "[ True False  True ...  True False  True]\n",
            "Generation: 12. 正解率 = 0.8005\n",
            "[ True  True  True ...  True False  True]\n",
            "Generation: 13. 正解率 = 0.7909\n",
            "[ True  True  True ... False False  True]\n",
            "Generation: 14. 正解率 = 0.7714\n",
            "[ True  True  True ...  True False  True]\n",
            "Generation: 15. 正解率 = 0.8011\n",
            "[ True False  True ...  True False  True]\n",
            "Generation: 16. 正解率 = 0.7552\n",
            "[ True  True  True ...  True False  True]\n",
            "Generation: 17. 正解率 = 0.7552\n",
            "[ True  True  True ...  True False  True]\n",
            "Generation: 18. 正解率 = 0.7974\n",
            "[ True  True  True ...  True False  True]\n",
            "Generation: 19. 正解率 = 0.7864\n",
            "[ True False  True ...  True False  True]\n",
            "Generation: 20. 正解率 = 0.7814\n",
            "[ True  True  True ...  True False  True]\n",
            "Generation: 21. 正解率 = 0.8067\n",
            "[ True  True  True ...  True False  True]\n",
            "Generation: 22. 正解率 = 0.8135\n",
            "[ True False  True ...  True False  True]\n",
            "Generation: 23. 正解率 = 0.8235\n",
            "[ True  True  True ...  True False  True]\n",
            "Generation: 24. 正解率 = 0.8226\n",
            "[ True  True  True ...  True False  True]\n",
            "Generation: 25. 正解率 = 0.8248\n",
            "[ True  True  True ... False False  True]\n",
            "Generation: 26. 正解率 = 0.7981\n",
            "[ True  True  True ...  True False  True]\n",
            "Generation: 27. 正解率 = 0.8225\n",
            "[ True  True  True ...  True False  True]\n",
            "Generation: 28. 正解率 = 0.8235\n",
            "[ True  True  True ...  True False  True]\n",
            "Generation: 29. 正解率 = 0.8195\n",
            "[ True  True  True ...  True False  True]\n",
            "Generation: 30. 正解率 = 0.8167\n",
            "[ True  True  True ...  True False  True]\n",
            "Generation: 31. 正解率 = 0.8108\n",
            "[ True  True  True ...  True False  True]\n",
            "Generation: 32. 正解率 = 0.8237\n",
            "[ True  True  True ...  True False  True]\n",
            "Generation: 33. 正解率 = 0.8238\n",
            "[ True  True  True ...  True False  True]\n",
            "Generation: 34. 正解率 = 0.8296\n",
            "[ True  True  True ...  True False  True]\n",
            "Generation: 35. 正解率 = 0.8374\n",
            "[ True  True  True ...  True False  True]\n",
            "Generation: 36. 正解率 = 0.8418\n",
            "[ True  True  True ...  True False  True]\n",
            "Generation: 37. 正解率 = 0.831\n",
            "[ True  True  True ...  True False  True]\n",
            "Generation: 38. 正解率 = 0.8369\n",
            "[ True  True  True ...  True False  True]\n",
            "Generation: 39. 正解率 = 0.8421\n",
            "[ True  True  True ...  True False  True]\n",
            "Generation: 40. 正解率 = 0.8354\n",
            "[ True  True  True ...  True False  True]\n",
            "Generation: 41. 正解率 = 0.8369\n",
            "[ True  True  True ...  True False  True]\n",
            "Generation: 42. 正解率 = 0.8414\n",
            "[ True  True  True ...  True False  True]\n",
            "Generation: 43. 正解率 = 0.8384\n",
            "[ True  True  True ...  True False  True]\n",
            "Generation: 44. 正解率 = 0.8352\n",
            "[ True  True  True ...  True False  True]\n",
            "Generation: 45. 正解率 = 0.8448\n",
            "[ True  True  True ...  True False  True]\n",
            "Generation: 46. 正解率 = 0.8404\n",
            "[ True  True  True ...  True False  True]\n",
            "Generation: 47. 正解率 = 0.8448\n",
            "[ True  True  True ...  True False  True]\n",
            "Generation: 48. 正解率 = 0.8468\n",
            "[ True  True  True ...  True False  True]\n",
            "Generation: 49. 正解率 = 0.8474\n",
            "[ True  True  True ...  True False  True]\n",
            "Generation: 50. 正解率 = 0.8458\n",
            "[ True  True  True ...  True False  True]\n",
            "Generation: 51. 正解率 = 0.8417\n",
            "[ True  True  True ...  True False  True]\n",
            "Generation: 52. 正解率 = 0.8406\n",
            "[ True  True  True ...  True False  True]\n",
            "Generation: 53. 正解率 = 0.8448\n",
            "[ True  True  True ...  True False  True]\n",
            "Generation: 54. 正解率 = 0.845\n",
            "[ True  True  True ...  True False  True]\n",
            "Generation: 55. 正解率 = 0.8498\n",
            "[ True  True  True ...  True False  True]\n",
            "Generation: 56. 正解率 = 0.854\n",
            "[ True  True  True ...  True False  True]\n",
            "Generation: 57. 正解率 = 0.8483\n",
            "[ True  True  True ...  True False  True]\n",
            "Generation: 58. 正解率 = 0.8452\n",
            "[ True  True  True ...  True False  True]\n",
            "Generation: 59. 正解率 = 0.8447\n",
            "[ True  True  True ...  True False  True]\n",
            "Generation: 60. 正解率 = 0.8507\n",
            "[ True  True  True ...  True False  True]\n",
            "Generation: 61. 正解率 = 0.8557\n",
            "[ True  True  True ...  True False  True]\n",
            "Generation: 62. 正解率 = 0.8561\n",
            "[ True  True  True ...  True False  True]\n",
            "Generation: 63. 正解率 = 0.8513\n",
            "[ True  True  True ...  True False  True]\n",
            "Generation: 64. 正解率 = 0.8533\n",
            "[ True  True  True ...  True False  True]\n",
            "Generation: 65. 正解率 = 0.8465\n",
            "[ True  True  True ...  True False  True]\n",
            "Generation: 66. 正解率 = 0.8507\n",
            "[ True  True  True ...  True False  True]\n",
            "Generation: 67. 正解率 = 0.8529\n",
            "[ True  True  True ...  True False  True]\n",
            "Generation: 68. 正解率 = 0.8561\n",
            "[ True  True  True ...  True False  True]\n",
            "Generation: 69. 正解率 = 0.8568\n",
            "[ True  True  True ...  True False  True]\n",
            "Generation: 70. 正解率 = 0.8583\n",
            "[ True  True  True ...  True False  True]\n",
            "Generation: 71. 正解率 = 0.8576\n",
            "[ True  True  True ...  True False  True]\n",
            "Generation: 72. 正解率 = 0.859\n",
            "[ True  True  True ...  True False  True]\n",
            "Generation: 73. 正解率 = 0.8614\n",
            "[ True  True  True ...  True False  True]\n",
            "Generation: 74. 正解率 = 0.8583\n",
            "[ True  True  True ...  True False  True]\n",
            "Generation: 75. 正解率 = 0.8622\n",
            "[ True  True  True ...  True False  True]\n",
            "Generation: 76. 正解率 = 0.8608\n",
            "[ True  True  True ...  True False  True]\n",
            "Generation: 77. 正解率 = 0.8615\n",
            "[ True  True  True ...  True False  True]\n",
            "Generation: 78. 正解率 = 0.8628\n",
            "[ True  True  True ...  True False  True]\n",
            "Generation: 79. 正解率 = 0.8621\n",
            "[ True  True  True ...  True False  True]\n",
            "Generation: 80. 正解率 = 0.8619\n",
            "[ True  True  True ...  True False  True]\n",
            "Generation: 81. 正解率 = 0.8619\n",
            "[ True  True  True ...  True False  True]\n",
            "Generation: 82. 正解率 = 0.8604\n",
            "[ True  True  True ...  True False  True]\n",
            "Generation: 83. 正解率 = 0.8589\n",
            "[ True  True  True ...  True False  True]\n",
            "Generation: 84. 正解率 = 0.8601\n",
            "[ True  True  True ...  True False  True]\n",
            "Generation: 85. 正解率 = 0.8606\n",
            "[ True  True  True ...  True False  True]\n",
            "Generation: 86. 正解率 = 0.8643\n",
            "[ True  True  True ...  True False  True]\n",
            "Generation: 87. 正解率 = 0.8645\n",
            "[ True  True  True ...  True False  True]\n",
            "Generation: 88. 正解率 = 0.8671\n",
            "[ True  True  True ...  True False  True]\n",
            "Generation: 89. 正解率 = 0.8644\n",
            "[ True  True  True ...  True False  True]\n",
            "Generation: 90. 正解率 = 0.8666\n",
            "[ True  True  True ...  True False  True]\n",
            "Generation: 91. 正解率 = 0.8617\n",
            "[ True  True  True ...  True False  True]\n",
            "Generation: 92. 正解率 = 0.864\n",
            "[ True  True  True ...  True False  True]\n",
            "Generation: 93. 正解率 = 0.868\n",
            "[ True  True  True ...  True False  True]\n",
            "Generation: 94. 正解率 = 0.8655\n",
            "[ True  True  True ...  True False  True]\n",
            "Generation: 95. 正解率 = 0.8652\n",
            "[ True  True  True ...  True False  True]\n",
            "Generation: 96. 正解率 = 0.8671\n",
            "[ True  True  True ...  True False  True]\n",
            "Generation: 97. 正解率 = 0.8692\n",
            "[ True  True  True ...  True False  True]\n",
            "Generation: 98. 正解率 = 0.8687\n",
            "[ True  True  True ...  True False  True]\n",
            "Generation: 99. 正解率 = 0.8687\n",
            "[ True  True  True ...  True False  True]\n",
            "Generation: 100. 正解率 = 0.8678\n"
          ]
        },
        {
          "output_type": "display_data",
          "data": {
            "image/png": "[encoded data removed]",
            "text/plain": [
              "<Figure size 432x288 with 1 Axes>"
            ]
          },
          "metadata": {
            "needs_background": "light"
          }
        }
      ]
    },
    {
      "cell_type": "markdown",
      "metadata": {
        "id": "u4jokGymmsns"
      },
      "source": [
        "## 分類3層 (mnist)\n",
        "\n",
        "\n",
        "---------------------------------------------------------------------------------------------------------------------------------------------------------------------------------------------\n",
        "## [try]\n",
        "-  隠れ層のサイズを変更してみよう\n",
        "-  optimizerを変更しよう<br>\n",
        "\n",
        "tf.train.GradientDescentOptimizer<br>\n",
        "`__init__(\n",
        "    learning_rate,\n",
        "    use_locking=False,\n",
        "    name='GradientDescent'\n",
        ")`\n",
        "\n",
        "tf.train.MomentumOptimizer<br>\n",
        "`__init__(\n",
        "    learning_rate,\n",
        "    momentum,\n",
        "    use_locking=False,\n",
        "    name='Momentum',\n",
        "    use_nesterov=False\n",
        ")`\n",
        "\n",
        "tf.train.AdagradOptimizer<br>\n",
        "`__init__(\n",
        "    learning_rate,\n",
        "    initial_accumulator_value=0.1,\n",
        "    use_locking=False,\n",
        "    name='Adagrad'\n",
        ")`\n",
        "\n",
        "tf.train.RMSPropOptimizer<br>\n",
        "`__init__(\n",
        "    learning_rate,\n",
        "    decay=0.9,\n",
        "    momentum=0.0,\n",
        "    epsilon=1e-10,\n",
        "    use_locking=False,\n",
        "    centered=False,\n",
        "    name='RMSProp'\n",
        ")`\n",
        "\n",
        "tf.train.AdamOptimizer<br>\n",
        "`__init__(\n",
        "    learning_rate=0.001,\n",
        "    beta1=0.9,\n",
        "    beta2=0.999,\n",
        "    epsilon=1e-08,\n",
        "    use_locking=False,\n",
        "    name='Adam'\n",
        ")`\n",
        "\n",
        "---------------------------------------------------------------------------------------------------------------------------------------------------------------------------------------------"
      ]
    },
    {
      "cell_type": "code",
      "metadata": {
        "id": "almKbxMxmsnt"
      },
      "source": [
        "import tensorflow as tf\n",
        "import numpy as np\n",
        "from tensorflow.examples.tutorials.mnist import input_data\n",
        "import matplotlib.pyplot as plt\n",
        "\n",
        "\n",
        "def try_3(opt_mode=0, hidden_layer_size_1=600, hidden_layer_size_2=300,learning_rate=1e-4,debug=True):\n",
        "    # logging levelを変更\n",
        "    tf.logging.set_verbosity(tf.logging.ERROR)\n",
        "\n",
        "    mnist = input_data.read_data_sets(\"MNIST_data/\", one_hot=True)\n",
        "\n",
        "    iters_num = 3000\n",
        "    batch_size = 100\n",
        "    plot_interval = 100\n",
        "\n",
        "    #hidden_layer_size_1 = 600\n",
        "    #hidden_layer_size_2 = 300\n",
        "\n",
        "    dropout_rate = 0.5\n",
        "\n",
        "    x = tf.placeholder(tf.float32, [None, 784])\n",
        "    d = tf.placeholder(tf.float32, [None, 10])\n",
        "    W1 = tf.Variable(tf.random_normal([784, hidden_layer_size_1], stddev=0.01))\n",
        "    W2 = tf.Variable(tf.random_normal([hidden_layer_size_1, hidden_layer_size_2], stddev=0.01))\n",
        "    W3 = tf.Variable(tf.random_normal([hidden_layer_size_2, 10], stddev=0.01))\n",
        "\n",
        "    b1 = tf.Variable(tf.zeros([hidden_layer_size_1]))\n",
        "    b2 = tf.Variable(tf.zeros([hidden_layer_size_2]))\n",
        "    b3 = tf.Variable(tf.zeros([10]))\n",
        "\n",
        "    z1 = tf.sigmoid(tf.matmul(x, W1) + b1)\n",
        "    z2 = tf.sigmoid(tf.matmul(z1, W2) + b2)\n",
        "\n",
        "    keep_prob = tf.placeholder(tf.float32)\n",
        "    drop = tf.nn.dropout(z2, keep_prob)\n",
        "\n",
        "    y = tf.nn.softmax(tf.matmul(drop, W3) + b3)\n",
        "    loss = tf.reduce_mean(-tf.reduce_sum(d * tf.log(y), reduction_indices=[1]))\n",
        "\n",
        "    print(\"++++++++++++++++++++++++++++++++++++++++++++++++++++++\")\n",
        "    print(\"hl1={} hl2={}\".format( hidden_layer_size_1, hidden_layer_size_2))\n",
        "    optimizer=None\n",
        "    if opt_mode==0:\n",
        "        print(\"Adam\")\n",
        "        optimizer = tf.train.AdamOptimizer(learning_rate=learning_rate)\n",
        "    elif opt_mode==1:\n",
        "        print(\"GradientDescent\")\n",
        "        optimizer = tf.train.GradientDescentOptimizer(learning_rate=learning_rate)\n",
        "    elif opt_mode==2:\n",
        "        print(\"Adagrad\")\n",
        "        optimizer = tf.train.AdagradOptimizer(learning_rate=learning_rate)\n",
        "    elif opt_mode==3:\n",
        "        print(\"RMSProp\")\n",
        "        optimizer = tf.train.RMSPropOptimizer(learning_rate=learning_rate)\n",
        "    else:\n",
        "        print(\"Momentum\")\n",
        "        optimizer = tf.train.MomentumOptimizer(learning_rate=learning_rate, momentum=learning_rate)\n",
        "\n",
        "    train = optimizer.minimize(loss)\n",
        "    correct = tf.equal(tf.argmax(y, 1), tf.argmax(d, 1))\n",
        "    accuracy = tf.reduce_mean(tf.cast(correct, tf.float32))\n",
        "\n",
        "    init = tf.global_variables_initializer()\n",
        "    sess = tf.Session()\n",
        "    sess.run(init)\n",
        "\n",
        "    accuracies = []\n",
        "    for i in range(iters_num):\n",
        "        x_batch, d_batch = mnist.train.next_batch(batch_size)\n",
        "        sess.run(train, feed_dict={x:x_batch, d:d_batch, keep_prob:(1 - dropout_rate)})\n",
        "        if (i+1) % plot_interval == 0:\n",
        "            accuracy_val = sess.run(accuracy, feed_dict={x:mnist.test.images, d:mnist.test.labels, keep_prob:1.0})            \n",
        "            accuracies.append(accuracy_val)\n",
        "            if debug:print('Generation: ' + str(i+1) + '. 正解率 = ' + str(accuracy_val))        \n",
        "        \n",
        "    lists = range(0, iters_num, plot_interval)\n",
        "    plt.plot(lists, accuracies)\n",
        "    plt.title(\"accuracy\")\n",
        "    plt.ylim(0, 1.0)\n",
        "    plt.grid()\n",
        "    plt.show()            "
      ],
      "execution_count": null,
      "outputs": []
    },
    {
      "cell_type": "code",
      "metadata": {
        "colab": {
          "base_uri": "https://localhost:8080/",
          "height": 928
        },
        "id": "Q28AGP9C6-Lf",
        "outputId": "5be0bb5e-78c2-40e7-f33c-5a04243b954f"
      },
      "source": [
        "#まずはデフォルトの状態で\n",
        "try_3()"
      ],
      "execution_count": null,
      "outputs": [
        {
          "output_type": "stream",
          "name": "stdout",
          "text": [
            "Extracting MNIST_data/train-images-idx3-ubyte.gz\n",
            "Extracting MNIST_data/train-labels-idx1-ubyte.gz\n",
            "Extracting MNIST_data/t10k-images-idx3-ubyte.gz\n",
            "Extracting MNIST_data/t10k-labels-idx1-ubyte.gz\n",
            "++++++++++++++++++++++++++++++++++++++++++++++++++++++\n",
            "hl1=600 hl2=300\n",
            "Adam\n",
            "Generation: 100. 正解率 = 0.1245\n",
            "Generation: 200. 正解率 = 0.3492\n",
            "Generation: 300. 正解率 = 0.4411\n",
            "Generation: 400. 正解率 = 0.5035\n",
            "Generation: 500. 正解率 = 0.6366\n",
            "Generation: 600. 正解率 = 0.6689\n",
            "Generation: 700. 正解率 = 0.699\n",
            "Generation: 800. 正解率 = 0.7392\n",
            "Generation: 900. 正解率 = 0.7682\n",
            "Generation: 1000. 正解率 = 0.7945\n",
            "Generation: 1100. 正解率 = 0.8023\n",
            "Generation: 1200. 正解率 = 0.8252\n",
            "Generation: 1300. 正解率 = 0.8339\n",
            "Generation: 1400. 正解率 = 0.8471\n",
            "Generation: 1500. 正解率 = 0.8539\n",
            "Generation: 1600. 正解率 = 0.8607\n",
            "Generation: 1700. 正解率 = 0.8641\n",
            "Generation: 1800. 正解率 = 0.8697\n",
            "Generation: 1900. 正解率 = 0.8736\n",
            "Generation: 2000. 正解率 = 0.8768\n",
            "Generation: 2100. 正解率 = 0.8817\n",
            "Generation: 2200. 正解率 = 0.8846\n",
            "Generation: 2300. 正解率 = 0.8871\n",
            "Generation: 2400. 正解率 = 0.8909\n",
            "Generation: 2500. 正解率 = 0.8936\n",
            "Generation: 2600. 正解率 = 0.8945\n",
            "Generation: 2700. 正解率 = 0.897\n",
            "Generation: 2800. 正解率 = 0.8987\n",
            "Generation: 2900. 正解率 = 0.9001\n",
            "Generation: 3000. 正解率 = 0.901\n"
          ]
        },
        {
          "output_type": "display_data",
          "data": {
            "image/png": "[encoded data removed]",
            "text/plain": [
              "<Figure size 432x288 with 1 Axes>"
            ]
          },
          "metadata": {
            "needs_background": "light"
          }
        }
      ]
    },
    {
      "cell_type": "code",
      "metadata": {
        "colab": {
          "base_uri": "https://localhost:8080/",
          "height": 790
        },
        "id": "dr7fK60F8JsH",
        "outputId": "cb97f161-b891-4e54-ace5-bd147185918a"
      },
      "source": [
        "#隠れ層のサイズを弄って比較\n",
        "#optimizerはAdam固定\n",
        "#隠れ層を減らすと精度が落ちる(増やすと収束が速くなる)\n",
        "try_3(hidden_layer_size_1=300,hidden_layer_size_2=100,debug=False)\n",
        "try_3(hidden_layer_size_1=1200,hidden_layer_size_2=600,debug=False)"
      ],
      "execution_count": null,
      "outputs": [
        {
          "output_type": "stream",
          "name": "stdout",
          "text": [
            "Extracting MNIST_data/train-images-idx3-ubyte.gz\n",
            "Extracting MNIST_data/train-labels-idx1-ubyte.gz\n",
            "Extracting MNIST_data/t10k-images-idx3-ubyte.gz\n",
            "Extracting MNIST_data/t10k-labels-idx1-ubyte.gz\n",
            "++++++++++++++++++++++++++++++++++++++++++++++++++++++\n",
            "hl1=300 hl2=100\n",
            "Adam\n"
          ]
        },
        {
          "output_type": "display_data",
          "data": {
            "image/png": "[encoded data removed]",
            "text/plain": [
              "<Figure size 432x288 with 1 Axes>"
            ]
          },
          "metadata": {
            "needs_background": "light"
          }
        },
        {
          "output_type": "stream",
          "name": "stdout",
          "text": [
            "Extracting MNIST_data/train-images-idx3-ubyte.gz\n",
            "Extracting MNIST_data/train-labels-idx1-ubyte.gz\n",
            "Extracting MNIST_data/t10k-images-idx3-ubyte.gz\n",
            "Extracting MNIST_data/t10k-labels-idx1-ubyte.gz\n",
            "++++++++++++++++++++++++++++++++++++++++++++++++++++++\n",
            "hl1=1200 hl2=600\n",
            "Adam\n"
          ]
        },
        {
          "output_type": "display_data",
          "data": {
            "image/png": "[encoded data removed]",
            "text/plain": [
              "<Figure size 432x288 with 1 Axes>"
            ]
          },
          "metadata": {
            "needs_background": "light"
          }
        }
      ]
    },
    {
      "cell_type": "code",
      "metadata": {
        "colab": {
          "base_uri": "https://localhost:8080/",
          "height": 1000
        },
        "id": "_OWvpqFl9JC9",
        "outputId": "cb0738ce-90c6-4351-c667-e1395036ea22"
      },
      "source": [
        "#optimizerを変更してみる\n",
        "#RMSPropとAdam以外は全然ダメという結果になった\n",
        "#Adamが一番安定している様に見える\n",
        "#\n",
        "#他のoptimizerもパラメータ弄る余地はあるかもしれないけど追いかけない\n",
        "for opt_mode in range(5):try_3(opt_mode=opt_mode,debug=False)"
      ],
      "execution_count": null,
      "outputs": [
        {
          "output_type": "stream",
          "name": "stdout",
          "text": [
            "Extracting MNIST_data/train-images-idx3-ubyte.gz\n",
            "Extracting MNIST_data/train-labels-idx1-ubyte.gz\n",
            "Extracting MNIST_data/t10k-images-idx3-ubyte.gz\n",
            "Extracting MNIST_data/t10k-labels-idx1-ubyte.gz\n",
            "++++++++++++++++++++++++++++++++++++++++++++++++++++++\n",
            "hl1=600 hl2=300\n",
            "Adam\n"
          ]
        },
        {
          "output_type": "display_data",
          "data": {
            "image/png": "[encoded data removed]",
            "text/plain": [
              "<Figure size 432x288 with 1 Axes>"
            ]
          },
          "metadata": {
            "needs_background": "light"
          }
        },
        {
          "output_type": "stream",
          "name": "stdout",
          "text": [
            "Extracting MNIST_data/train-images-idx3-ubyte.gz\n",
            "Extracting MNIST_data/train-labels-idx1-ubyte.gz\n",
            "Extracting MNIST_data/t10k-images-idx3-ubyte.gz\n",
            "Extracting MNIST_data/t10k-labels-idx1-ubyte.gz\n",
            "++++++++++++++++++++++++++++++++++++++++++++++++++++++\n",
            "hl1=600 hl2=300\n",
            "GradientDescent\n"
          ]
        },
        {
          "output_type": "display_data",
          "data": {
            "image/png": "[encoded data removed]",
            "text/plain": [
              "<Figure size 432x288 with 1 Axes>"
            ]
          },
          "metadata": {
            "needs_background": "light"
          }
        },
        {
          "output_type": "stream",
          "name": "stdout",
          "text": [
            "Extracting MNIST_data/train-images-idx3-ubyte.gz\n",
            "Extracting MNIST_data/train-labels-idx1-ubyte.gz\n",
            "Extracting MNIST_data/t10k-images-idx3-ubyte.gz\n",
            "Extracting MNIST_data/t10k-labels-idx1-ubyte.gz\n",
            "++++++++++++++++++++++++++++++++++++++++++++++++++++++\n",
            "hl1=600 hl2=300\n",
            "Adagrad\n"
          ]
        },
        {
          "output_type": "display_data",
          "data": {
            "image/png": "[encoded data removed]",
            "text/plain": [
              "<Figure size 432x288 with 1 Axes>"
            ]
          },
          "metadata": {
            "needs_background": "light"
          }
        },
        {
          "output_type": "stream",
          "name": "stdout",
          "text": [
            "Extracting MNIST_data/train-images-idx3-ubyte.gz\n",
            "Extracting MNIST_data/train-labels-idx1-ubyte.gz\n",
            "Extracting MNIST_data/t10k-images-idx3-ubyte.gz\n",
            "Extracting MNIST_data/t10k-labels-idx1-ubyte.gz\n",
            "++++++++++++++++++++++++++++++++++++++++++++++++++++++\n",
            "hl1=600 hl2=300\n",
            "RMSProp\n"
          ]
        },
        {
          "output_type": "display_data",
          "data": {
            "image/png": "[encoded data removed]",
            "text/plain": [
              "<Figure size 432x288 with 1 Axes>"
            ]
          },
          "metadata": {
            "needs_background": "light"
          }
        },
        {
          "output_type": "stream",
          "name": "stdout",
          "text": [
            "Extracting MNIST_data/train-images-idx3-ubyte.gz\n",
            "Extracting MNIST_data/train-labels-idx1-ubyte.gz\n",
            "Extracting MNIST_data/t10k-images-idx3-ubyte.gz\n",
            "Extracting MNIST_data/t10k-labels-idx1-ubyte.gz\n",
            "++++++++++++++++++++++++++++++++++++++++++++++++++++++\n",
            "hl1=600 hl2=300\n",
            "Momentum\n"
          ]
        },
        {
          "output_type": "display_data",
          "data": {
            "image/png": "[encoded data removed]",
            "text/plain": [
              "<Figure size 432x288 with 1 Axes>"
            ]
          },
          "metadata": {
            "needs_background": "light"
          }
        }
      ]
    },
    {
      "cell_type": "markdown",
      "metadata": {
        "id": "SM5_IynOmsnw"
      },
      "source": [
        "## 分類CNN (mnist)\n",
        "conv - relu - pool - conv - relu - pool - <br>\n",
        "affin - relu - dropout - affin - softmax<br>\n",
        "\n",
        "---------------------------------------------------------------------------------------------------------------------------------------------------------------------------------------------\n",
        "### [try]\n",
        "-  ドロップアウト率を0に変更しよう\n",
        "---------------------------------------------------------------------------------------------------------------------------------------------------------------------------------------------"
      ]
    },
    {
      "cell_type": "code",
      "metadata": {
        "id": "ns6rhcQGmsnx"
      },
      "source": [
        "import tensorflow as tf\n",
        "from tensorflow.examples.tutorials.mnist import input_data\n",
        "\n",
        "\n",
        "def try_4(dropout_rate = 0.5,debug=True):\n",
        "    # logging levelを変更\n",
        "    tf.logging.set_verbosity(tf.logging.ERROR)\n",
        "\n",
        "    mnist = input_data.read_data_sets(\"MNIST_data/\", one_hot=True)\n",
        "    import matplotlib.pyplot as plt\n",
        "\n",
        "    iters_num = 300\n",
        "    batch_size = 100\n",
        "    plot_interval = 10\n",
        "\n",
        "    #dropout_rate = 0.5\n",
        "    print(\"dropout_rate={}\".format(dropout_rate))\n",
        "\n",
        "    # placeholder\n",
        "    x = tf.placeholder(tf.float32, shape=[None, 784])\n",
        "    d = tf.placeholder(tf.float32, shape=[None, 10])\n",
        "\n",
        "    # 画像を784の一次元から28x28の二次元に変換する\n",
        "    # 画像を28x28にreshape\n",
        "    x_image = tf.reshape(x, [-1,28,28,1])\n",
        "\n",
        "    # 第一層のweightsとbiasのvariable\n",
        "    W_conv1 = tf.Variable(tf.truncated_normal([5, 5, 1, 32], stddev=0.1))\n",
        "    b_conv1 = tf.Variable(tf.constant(0.1, shape=[32]))\n",
        "\n",
        "    # 第一層のconvolutionalとpool\n",
        "    # strides[0] = strides[3] = 1固定\n",
        "    h_conv1 = tf.nn.relu(tf.nn.conv2d(x_image, W_conv1, strides=[1, 1, 1, 1], padding='SAME') + b_conv1)\n",
        "    # プーリングサイズ n*n にしたい場合 ksize=[1, n, n, 1]\n",
        "    h_pool1 = tf.nn.max_pool(h_conv1, ksize=[1, 2, 2, 1], strides=[1, 2, 2, 1], padding='SAME')\n",
        "\n",
        "    # 第二層\n",
        "    W_conv2 = tf.Variable(tf.truncated_normal([5, 5, 32, 64], stddev=0.1))\n",
        "    b_conv2 = tf.Variable(tf.constant(0.1, shape=[64]))\n",
        "    h_conv2 = tf.nn.relu(tf.nn.conv2d(h_pool1, W_conv2, strides=[1, 1, 1, 1], padding='SAME') + b_conv2)\n",
        "    h_pool2 = tf.nn.max_pool(h_conv2, ksize=[1, 2, 2, 1], strides=[1, 2, 2, 1], padding='SAME')\n",
        "\n",
        "    # 第一層と第二層でreduceされてできた特徴に対してrelu\n",
        "    W_fc1 = tf.Variable(tf.truncated_normal([7 * 7 * 64, 1024], stddev=0.1))\n",
        "    b_fc1 = tf.Variable(tf.constant(0.1, shape=[1024]))\n",
        "    h_pool2_flat = tf.reshape(h_pool2, [-1, 7*7*64])\n",
        "    h_fc1 = tf.nn.relu(tf.matmul(h_pool2_flat, W_fc1) + b_fc1)\n",
        "\n",
        "    # Dropout\n",
        "    keep_prob = tf.placeholder(tf.float32)\n",
        "    h_fc1_drop = tf.nn.dropout(h_fc1, keep_prob)\n",
        "\n",
        "    # 出来上がったものに対してSoftmax\n",
        "    W_fc2 = tf.Variable(tf.truncated_normal([1024, 10], stddev=0.1))\n",
        "    b_fc2 = tf.Variable(tf.constant(0.1, shape=[10]))\n",
        "    y_conv=tf.nn.softmax(tf.matmul(h_fc1_drop, W_fc2) + b_fc2)\n",
        "\n",
        "    # 交差エントロピー\n",
        "    loss = -tf.reduce_sum(d * tf.log(y_conv))\n",
        "\n",
        "    train = tf.train.AdamOptimizer(1e-4).minimize(loss)\n",
        "\n",
        "    correct = tf.equal(tf.argmax(y_conv,1), tf.argmax(d,1))\n",
        "    accuracy = tf.reduce_mean(tf.cast(correct, tf.float32))\n",
        "\n",
        "    init = tf.global_variables_initializer()\n",
        "    sess = tf.Session()\n",
        "    sess.run(init)\n",
        "\n",
        "\n",
        "    accuracies = []\n",
        "    for i in range(iters_num):\n",
        "        x_batch, d_batch = mnist.train.next_batch(batch_size)\n",
        "        sess.run(train, feed_dict={x: x_batch, d: d_batch, keep_prob: 1-dropout_rate})\n",
        "        if (i+1) % plot_interval == 0:\n",
        "            accuracy_val = sess.run(accuracy, feed_dict={x:x_batch, d: d_batch, keep_prob: 1.0})\n",
        "            accuracies.append(accuracy_val)\n",
        "            if debug: print('Generation: ' + str(i+1) + '. 正解率 = ' + str(accuracy_val))        \n",
        "        \n",
        "        \n",
        "    lists = range(0, iters_num, plot_interval)\n",
        "    plt.plot(lists, accuracies)\n",
        "    plt.title(\"accuracy\")\n",
        "    plt.ylim(0, 1.0)\n",
        "    plt.grid()\n",
        "    plt.show()                "
      ],
      "execution_count": null,
      "outputs": []
    },
    {
      "cell_type": "code",
      "metadata": {
        "colab": {
          "base_uri": "https://localhost:8080/",
          "height": 893
        },
        "id": "5ASsXvkLCvxA",
        "outputId": "7b4dff75-0042-4e74-d643-8694785d19f4"
      },
      "source": [
        "#デフォルトのdropout率\n",
        "try_4()"
      ],
      "execution_count": null,
      "outputs": [
        {
          "output_type": "stream",
          "name": "stdout",
          "text": [
            "Extracting MNIST_data/train-images-idx3-ubyte.gz\n",
            "Extracting MNIST_data/train-labels-idx1-ubyte.gz\n",
            "Extracting MNIST_data/t10k-images-idx3-ubyte.gz\n",
            "Extracting MNIST_data/t10k-labels-idx1-ubyte.gz\n",
            "dropout_rate=0.5\n",
            "Generation: 10. 正解率 = 0.26\n",
            "Generation: 20. 正解率 = 0.57\n",
            "Generation: 30. 正解率 = 0.69\n",
            "Generation: 40. 正解率 = 0.74\n",
            "Generation: 50. 正解率 = 0.78\n",
            "Generation: 60. 正解率 = 0.81\n",
            "Generation: 70. 正解率 = 0.88\n",
            "Generation: 80. 正解率 = 0.82\n",
            "Generation: 90. 正解率 = 0.87\n",
            "Generation: 100. 正解率 = 0.83\n",
            "Generation: 110. 正解率 = 0.92\n",
            "Generation: 120. 正解率 = 0.87\n",
            "Generation: 130. 正解率 = 0.88\n",
            "Generation: 140. 正解率 = 0.94\n",
            "Generation: 150. 正解率 = 0.93\n",
            "Generation: 160. 正解率 = 0.88\n",
            "Generation: 170. 正解率 = 0.9\n",
            "Generation: 180. 正解率 = 0.93\n",
            "Generation: 190. 正解率 = 0.88\n",
            "Generation: 200. 正解率 = 0.98\n",
            "Generation: 210. 正解率 = 0.95\n",
            "Generation: 220. 正解率 = 0.9\n",
            "Generation: 230. 正解率 = 0.89\n",
            "Generation: 240. 正解率 = 0.91\n",
            "Generation: 250. 正解率 = 0.91\n",
            "Generation: 260. 正解率 = 0.95\n",
            "Generation: 270. 正解率 = 0.91\n",
            "Generation: 280. 正解率 = 0.89\n",
            "Generation: 290. 正解率 = 0.97\n",
            "Generation: 300. 正解率 = 0.98\n"
          ]
        },
        {
          "output_type": "display_data",
          "data": {
            "image/png": "[encoded data removed]",
            "text/plain": [
              "<Figure size 432x288 with 1 Axes>"
            ]
          },
          "metadata": {
            "needs_background": "light"
          }
        }
      ]
    },
    {
      "cell_type": "code",
      "metadata": {
        "colab": {
          "base_uri": "https://localhost:8080/",
          "height": 893
        },
        "id": "gCOieCjfC--H",
        "outputId": "6d3f2aa8-35c4-4a1b-eae0-2a10b9b7254c"
      },
      "source": [
        "#dropoutを0にすると\n",
        "#  あまり変化がないように見えるが少し学習の進みが速くなる\n",
        "#  振る舞いはネットワーク現物次第という事で理解しておく\n",
        "try_4(dropout_rate=0)"
      ],
      "execution_count": null,
      "outputs": [
        {
          "output_type": "stream",
          "name": "stdout",
          "text": [
            "Extracting MNIST_data/train-images-idx3-ubyte.gz\n",
            "Extracting MNIST_data/train-labels-idx1-ubyte.gz\n",
            "Extracting MNIST_data/t10k-images-idx3-ubyte.gz\n",
            "Extracting MNIST_data/t10k-labels-idx1-ubyte.gz\n",
            "dropout_rate=0\n",
            "Generation: 10. 正解率 = 0.32\n",
            "Generation: 20. 正解率 = 0.65\n",
            "Generation: 30. 正解率 = 0.74\n",
            "Generation: 40. 正解率 = 0.82\n",
            "Generation: 50. 正解率 = 0.87\n",
            "Generation: 60. 正解率 = 0.87\n",
            "Generation: 70. 正解率 = 0.86\n",
            "Generation: 80. 正解率 = 0.84\n",
            "Generation: 90. 正解率 = 0.9\n",
            "Generation: 100. 正解率 = 0.87\n",
            "Generation: 110. 正解率 = 0.89\n",
            "Generation: 120. 正解率 = 0.88\n",
            "Generation: 130. 正解率 = 0.85\n",
            "Generation: 140. 正解率 = 0.87\n",
            "Generation: 150. 正解率 = 0.94\n",
            "Generation: 160. 正解率 = 0.89\n",
            "Generation: 170. 正解率 = 0.95\n",
            "Generation: 180. 正解率 = 0.86\n",
            "Generation: 190. 正解率 = 0.89\n",
            "Generation: 200. 正解率 = 0.89\n",
            "Generation: 210. 正解率 = 0.95\n",
            "Generation: 220. 正解率 = 0.94\n",
            "Generation: 230. 正解率 = 0.92\n",
            "Generation: 240. 正解率 = 0.92\n",
            "Generation: 250. 正解率 = 0.97\n",
            "Generation: 260. 正解率 = 0.94\n",
            "Generation: 270. 正解率 = 0.97\n",
            "Generation: 280. 正解率 = 0.94\n",
            "Generation: 290. 正解率 = 0.93\n",
            "Generation: 300. 正解率 = 0.93\n"
          ]
        },
        {
          "output_type": "display_data",
          "data": {
            "image/png": "[encoded data removed]",
            "text/plain": [
              "<Figure size 432x288 with 1 Axes>"
            ]
          },
          "metadata": {
            "needs_background": "light"
          }
        }
      ]
    },
    {
      "cell_type": "code",
      "metadata": {
        "colab": {
          "base_uri": "https://localhost:8080/",
          "height": 1000
        },
        "id": "Nnv2eTlbD95i",
        "outputId": "5f40beeb-9772-495a-cfad-bcafc7c5c7cc"
      },
      "source": [
        "#dropoutを1に近づけるとどうなるの?実験\n",
        "#dropout引数に浮動小数点誤差が見えてしまうけど微差なので気にせず(ご容赦を)\n",
        "#dropout率上げると徐々に残差が見えてくるかもしれず\n",
        "#0.9までやるとやりすぎという事になる\n",
        "for i in range(5,10,1):try_4(dropout_rate=i * 0.1,debug=False)"
      ],
      "execution_count": null,
      "outputs": [
        {
          "output_type": "stream",
          "name": "stdout",
          "text": [
            "Extracting MNIST_data/train-images-idx3-ubyte.gz\n",
            "Extracting MNIST_data/train-labels-idx1-ubyte.gz\n",
            "Extracting MNIST_data/t10k-images-idx3-ubyte.gz\n",
            "Extracting MNIST_data/t10k-labels-idx1-ubyte.gz\n",
            "dropout_rate=0.5\n"
          ]
        },
        {
          "output_type": "display_data",
          "data": {
            "image/png": "[encoded data removed]",
            "text/plain": [
              "<Figure size 432x288 with 1 Axes>"
            ]
          },
          "metadata": {
            "needs_background": "light"
          }
        },
        {
          "output_type": "stream",
          "name": "stdout",
          "text": [
            "Extracting MNIST_data/train-images-idx3-ubyte.gz\n",
            "Extracting MNIST_data/train-labels-idx1-ubyte.gz\n",
            "Extracting MNIST_data/t10k-images-idx3-ubyte.gz\n",
            "Extracting MNIST_data/t10k-labels-idx1-ubyte.gz\n",
            "dropout_rate=0.6000000000000001\n"
          ]
        },
        {
          "output_type": "display_data",
          "data": {
            "image/png": "[encoded data removed]",
            "text/plain": [
              "<Figure size 432x288 with 1 Axes>"
            ]
          },
          "metadata": {
            "needs_background": "light"
          }
        },
        {
          "output_type": "stream",
          "name": "stdout",
          "text": [
            "Extracting MNIST_data/train-images-idx3-ubyte.gz\n",
            "Extracting MNIST_data/train-labels-idx1-ubyte.gz\n",
            "Extracting MNIST_data/t10k-images-idx3-ubyte.gz\n",
            "Extracting MNIST_data/t10k-labels-idx1-ubyte.gz\n",
            "dropout_rate=0.7000000000000001\n"
          ]
        },
        {
          "output_type": "display_data",
          "data": {
            "image/png": "[encoded data removed]",
            "text/plain": [
              "<Figure size 432x288 with 1 Axes>"
            ]
          },
          "metadata": {
            "needs_background": "light"
          }
        },
        {
          "output_type": "stream",
          "name": "stdout",
          "text": [
            "Extracting MNIST_data/train-images-idx3-ubyte.gz\n",
            "Extracting MNIST_data/train-labels-idx1-ubyte.gz\n",
            "Extracting MNIST_data/t10k-images-idx3-ubyte.gz\n",
            "Extracting MNIST_data/t10k-labels-idx1-ubyte.gz\n",
            "dropout_rate=0.8\n"
          ]
        },
        {
          "output_type": "display_data",
          "data": {
            "image/png": "[encoded data removed]",
            "text/plain": [
              "<Figure size 432x288 with 1 Axes>"
            ]
          },
          "metadata": {
            "needs_background": "light"
          }
        },
        {
          "output_type": "stream",
          "name": "stdout",
          "text": [
            "Extracting MNIST_data/train-images-idx3-ubyte.gz\n",
            "Extracting MNIST_data/train-labels-idx1-ubyte.gz\n",
            "Extracting MNIST_data/t10k-images-idx3-ubyte.gz\n",
            "Extracting MNIST_data/t10k-labels-idx1-ubyte.gz\n",
            "dropout_rate=0.9\n"
          ]
        },
        {
          "output_type": "display_data",
          "data": {
            "image/png": "[encoded data removed]",
            "text/plain": [
              "<Figure size 432x288 with 1 Axes>"
            ]
          },
          "metadata": {
            "needs_background": "light"
          }
        }
      ]
    }
  ]
}